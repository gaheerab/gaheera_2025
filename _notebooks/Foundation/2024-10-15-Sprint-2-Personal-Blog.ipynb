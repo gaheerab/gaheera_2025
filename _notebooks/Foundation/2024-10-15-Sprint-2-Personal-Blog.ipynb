{
 "cells": [
  {
   "cell_type": "raw",
   "metadata": {},
   "source": [
    "---\n",
    "layout: post\n",
    "title: Sprint 2 Personal Blog\n",
    "description: Sprint 2 Personal Journey and Growth\n",
    "categories: [Python]\n",
    "menu: nav/tools_setup.html\n",
    "toc: true\n",
    "comments: true\n",
    "---"
   ]
  },
  {
   "cell_type": "markdown",
   "metadata": {
    "vscode": {
     "languageId": "raw"
    }
   },
   "source": [
    "### Summary of Teaching\n",
    "- 3.10.1: This page explains how lists function as containers to hold multiple elements, each accessible by index. It provides instructions for basic list operations like accessing, appending, and removing elements, and includes examples in JavaScript and Python to build a shopping list application.\n",
    "- 3.10.2: This lesson explains how to access list elements using positive indexing (from the start) and negative indexing (from the end). It also covers how to remove elements from a list using methods like remove(), pop(), del, and splice() in Python and JavaScript.\n",
    "- 3.10.3: The first part of the lesson explains how to assign a value to a list which can be done using an empty list and using methods like append() or push(). Additionally, you can assign values to specific positions using the index. The second part of the lesson is about the length of a list which can be found using len().\n",
    "- 3.10.4: This lesson explains how to perform operations on numerical lists, including finding the minimum values, maximum values, and sum of all even numbers using conditional statements in Python and Javascript."
   ]
  },
  {
   "cell_type": "markdown",
   "metadata": {},
   "source": [
    "### My Contributions\n",
    "My contributions were to lesson [3.10.4](https://nighthawkcoders.github.io/portfolio_2025/csp/big-idea/p4/3-10A-4). I explained the Javascript examples presented in the 3.10 college board videos and also included corresponding Python examples to highlight the similiarites and simplicity in the concepts. I introduced various methods to analyze numerical lists. I also created homework hacks that encapusulated the entirety of the lesson and tested students abilities to apply the code to actual tasks. As Scrum Master, I also had the additional role of ensuring my group was coordinated with our lesson organization, themes and goals. I also had the responsibility of updated my group on Mr. Mort's expectations and communicating with other groups, enhancing our collaborative efforts."
   ]
  },
  {
   "cell_type": "markdown",
   "metadata": {},
   "source": [
    "### Lesson Hacks and Homework\n",
    "- [3.1](https://gaheerab.github.io/gaheera_2025/python/2024/10/07/3.1-hacks_IPYNB_2_.html): Variables, naming conventions, and data types in Python and Javascript\n",
    "- [3.2](https://gaheerab.github.io/gaheera_2025/python/2024/10/07/3.2-hacks_IPYNB_2_.html): Datatypes in python and Javascript\n",
    "- [3.3](https://gaheerab.github.io/gaheera_2025/python/2024/10/07/3.3-hacks_IPYNB_2_.html): Mathematical expressions, sequencing\n",
    "- [3.4](https://gaheerab.github.io/gaheera_2025/python/2024/10/07/3.4-hacks_IPYNB_2_.html): String funcitons including replacing and identifying items\n",
    "- [3.5](https://gaheerab.github.io/gaheera_2025/python/2024/10/07/3.5-hacks_IPYNB_2_.html): Booleans, relational operators, and logical operators\n",
    "- [3.6](https://gaheerab.github.io/gaheera_2025/python/2024/10/09/3.6-hacks_IPYNB_2_.html): Conditionals in Python and Javascript\n",
    "- [3.7](https://gaheerab.github.io/gaheera_2025/python/2024/10/09/3.7-hacks_IPYNB_2_.html): Nested Conditionals in Python and Javascript\n",
    "- [3.8](https://gaheerab.github.io/gaheera_2025/python/2024/10/09/3.8-hacks_IPYNB_2_.html): Various methods of loops, for loops, and while loops in Python and Javascript.\n",
    "- [3.10B](https://gaheerab.github.io/gaheera_2025/python/2024/10/11/3.10B-hacks_IPYNB_2_.html) List methods; indexing, finding and deleting values in lists."
   ]
  },
  {
   "cell_type": "markdown",
   "metadata": {},
   "source": [
    "### The Most Memorable Lesson\n",
    "I found the most memorable lesson to be 3.7 and 3.8, because of how easy to understand the lessons were. The kahoot and examples were engaging, and the quiz at the end provided us with an opportunity to check our understanding."
   ]
  }
 ],
 "metadata": {
  "language_info": {
   "name": "python"
  }
 },
 "nbformat": 4,
 "nbformat_minor": 2
}
