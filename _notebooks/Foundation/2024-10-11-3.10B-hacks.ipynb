{
 "cells": [
  {
   "cell_type": "raw",
   "metadata": {
    "vscode": {
     "languageId": "raw"
    }
   },
   "source": [
    "---\n",
    "layout: post\n",
    "title: Gaheera Babbar P4 Popcorn Hacks 3.10B\n",
    "description: 3.10B Lesson Popcorn and Homework Hacks\n",
    "categories: [Python]\n",
    "menu: nav/tools_setup.html\n",
    "toc: true\n",
    "comments: true\n",
    "---"
   ]
  },
  {
   "cell_type": "code",
   "execution_count": null,
   "metadata": {},
   "outputs": [],
   "source": [
    "#Python Popcorn Hack 1\n",
    "# Create an array (list in Python)\n",
    "my_array = [1, 2, 3, 4, 5]\n",
    "print(\"Original array:\", my_array)\n",
    "\n",
    "# Reverse the array\n",
    "my_array.reverse()\n",
    "print(\"Reversed array:\", my_array)\n",
    "\n"
   ]
  },
  {
   "cell_type": "code",
   "execution_count": null,
   "metadata": {},
   "outputs": [],
   "source": [
    "#Python Popcorn Hack 2\n",
    "# Create an array\n",
    "my_array = [3, 4, 5]\n",
    "\n",
    "# Use list concatenation to mimic the unshift effect\n",
    "new_element = [2]  # The element to add\n",
    "my_array = new_element + my_array\n",
    "print(\"Array after unshift:\", my_array)\n"
   ]
  },
  {
   "cell_type": "code",
   "execution_count": null,
   "metadata": {},
   "outputs": [],
   "source": [
    "#Python Popcorn Hack 3\n",
    "# Create an array with numbers\n",
    "numbers = [1, 2, 3, 4, 5, 6, 7, 8, 9, 10]\n",
    "\n",
    "# Use filter to create a new array with only even numbers\n",
    "even_numbers = list(filter(lambda x: x % 2 == 0, numbers))\n",
    "print(\"Even numbers using filter:\", even_numbers)\n"
   ]
  },
  {
   "cell_type": "code",
   "execution_count": null,
   "metadata": {},
   "outputs": [],
   "source": [
    "#Python Popcorn Hack 4\n",
    "# Create a list\n",
    "my_list = [1, 2, 3]\n",
    "\n",
    "# Insert values at negative indexes\n",
    "my_list.insert(-1, 1.5)  # Inserts 1.5 before the last element\n",
    "my_list.insert(-2, 1.2)  # Inserts 1.2 before the second last element\n",
    "print(\"List after inserting with negative indexes:\", my_list)\n"
   ]
  },
  {
   "cell_type": "code",
   "execution_count": null,
   "metadata": {},
   "outputs": [],
   "source": [
    "#Python Popcorn Hack 5\n",
    "# Create two lists\n",
    "list1 = [1, 2, 3]\n",
    "list2 = [4, 5, 6]\n",
    "\n",
    "# Use extend to add list2 to list1\n",
    "list1.extend(list2)\n",
    "print(\"Combined list using extend:\", list1)\n"
   ]
  },
  {
   "cell_type": "code",
   "execution_count": null,
   "metadata": {},
   "outputs": [],
   "source": [
    "#Python Popcorn Hack 6\n",
    "# Create a list\n",
    "my_list = ['apple', 'banana', 'cherry', 'strawberry', 'grape']\n",
    "\n",
    "# Remove an item using remove()\n",
    "my_list.remove('banana')\n",
    "print(\"List after removing 'banana':\", my_list)\n",
    "\n",
    "# Remove an item using pop()\n",
    "my_list.pop(2)  # Removes 'cherry'\n",
    "print(\"List after popping index 2:\", my_list)\n",
    "\n",
    "# Remove an item using del\n",
    "del my_list[0]  # Removes 'apple'\n",
    "print(\"List after deleting index 0:\", my_list)\n"
   ]
  },
  {
   "cell_type": "code",
   "execution_count": 1,
   "metadata": {},
   "outputs": [
    {
     "name": "stdout",
     "output_type": "stream",
     "text": [
      "\n",
      "Current grocery list: ['apples', 'bananas', 'bread']\n",
      "\n",
      "Sorted grocery list: ['apples', 'bananas', 'bread']\n",
      "\n",
      "Updated grocery list: ['apples', 'bread']\n"
     ]
    }
   ],
   "source": [
    "#Python HW Hack 1: Grocery List\n",
    "# Step 1: Create an empty list to store grocery items\n",
    "grocery_list = []\n",
    "\n",
    "# Step 2: Input three grocery items and add them to the list\n",
    "for i in range(3):\n",
    "    item = input(f\"Enter grocery item {i+1}: \")\n",
    "    grocery_list.append(item)\n",
    "\n",
    "# Step 3: Display the current grocery list after all items are added\n",
    "print(\"\\nCurrent grocery list:\", grocery_list)\n",
    "\n",
    "# Step 4: Sort the list alphabetically and print the sorted list\n",
    "grocery_list.sort()\n",
    "print(\"\\nSorted grocery list:\", grocery_list)\n",
    "\n",
    "# Step 5: Remove one item specified by the user and display the updated list\n",
    "item_to_remove = input(\"\\nEnter an item to remove from the list: \")\n",
    "if item_to_remove in grocery_list:\n",
    "    grocery_list.remove(item_to_remove)\n",
    "    print(\"\\nUpdated grocery list:\", grocery_list)\n",
    "else:\n",
    "    print(f\"\\nItem '{item_to_remove}' not found in the list.\")"
   ]
  },
  {
   "cell_type": "code",
   "execution_count": null,
   "metadata": {},
   "outputs": [],
   "source": [
    "#Python HW Hack 2: Filtering Even Numbers\n",
    "# Step 1: Create a list of integers from 1 to 20\n",
    "original_list = list(range(1, 21))\n",
    "\n",
    "# Step 2: Print the original list\n",
    "print(\"Original list:\", original_list)\n",
    "\n",
    "# Step 3: Create a new list with only the even numbers using list comprehension\n",
    "even_numbers = [num for num in original_list if num % 2 == 0]\n",
    "\n",
    "# Step 4: Print the list of even numbers\n",
    "print(\"Even numbers:\", even_numbers)\n"
   ]
  },
  {
   "cell_type": "code",
   "execution_count": 2,
   "metadata": {},
   "outputs": [
    {
     "name": "stdout",
     "output_type": "stream",
     "text": [
      "\n",
      "List of grades: [67, 85, 54]\n",
      "Grades above 60: [67, 85]\n"
     ]
    }
   ],
   "source": [
    "#Python HW Hack 3: Student Grades\n",
    "# Step 1: Create an empty list to store student grades\n",
    "grades = []\n",
    "\n",
    "# Step 2: Input three grades (as integers) and add them to the list\n",
    "for i in range(3):\n",
    "    grade = int(input(f\"Enter grade {i+1}: \"))\n",
    "    grades.append(grade)\n",
    "\n",
    "# Step 3: Print the list of grades after all grades are entered\n",
    "print(\"\\nList of grades:\", grades)\n",
    "\n",
    "# Step 4: Create a new list that contains only grades above 60\n",
    "passing_grades = [grade for grade in grades if grade > 60]\n",
    "\n",
    "# Print this list of passing grades\n",
    "print(\"Grades above 60:\", passing_grades)\n"
   ]
  },
  {
   "cell_type": "code",
   "execution_count": null,
   "metadata": {},
   "outputs": [],
   "source": [
    "#Python HW Hack 4: Basic Operations\n",
    "# Step 1: Create a list of numbers from 1 to 10\n",
    "numbers = list(range(1, 11))\n",
    "\n",
    "# Step 2: Print the original list\n",
    "print(\"Original list:\", numbers)\n",
    "\n",
    "# Step 3: Sort the list in descending order\n",
    "numbers.sort(reverse=True)\n",
    "print(\"List in descending order:\", numbers)\n",
    "\n",
    "# Step 4: Slice the list to get the first five numbers and print them\n",
    "first_five = numbers[:5]\n",
    "print(\"First five numbers:\", first_five)\n",
    "\n",
    "# Step 5: Sort the list again in ascending order and print it\n",
    "numbers.sort()\n",
    "print(\"List in ascending order:\", numbers)\n"
   ]
  },
  {
   "cell_type": "code",
   "execution_count": null,
   "metadata": {
    "vscode": {
     "languageId": "javascript"
    }
   },
   "outputs": [],
   "source": [
    "%%js\n",
    "//JS HW Hack 1: Creating an Array\n",
    "\n",
    "let Array = [1, 2, 3, 4, 5];\n",
    "\n",
    "// Step 2: Display the array using console.log()\n",
    "console.log(\"Original array:\", Array);\n",
    "\n",
    "// Bonus: Reverse the array using the reverse() method\n",
    "Array.reverse();\n",
    "\n",
    "// Step 3: Display the reversed array\n",
    "console.log(\"Reversed array:\", Array);\n",
    "\n"
   ]
  },
  {
   "cell_type": "code",
   "execution_count": 3,
   "metadata": {
    "vscode": {
     "languageId": "javascript"
    }
   },
   "outputs": [
    {
     "data": {
      "application/javascript": "// JS HW Hack 2: Accessing Elements\n// Given array\nlet sports = [\"soccer\", \"football\", \"basketball\", \"wrestling\", \"swimming\"];\n\n// Accessing and displaying values using their indexes\nconsole.log(sports[0]); // Output: soccer\nconsole.log(sports[3]); // Output: wrestling\n",
      "text/plain": [
       "<IPython.core.display.Javascript object>"
      ]
     },
     "metadata": {},
     "output_type": "display_data"
    }
   ],
   "source": [
    "%%js\n",
    "// JS HW Hack 2: Accessing Elements\n",
    "// Given array\n",
    "let sports = [\"soccer\", \"football\", \"basketball\", \"wrestling\", \"swimming\"];\n",
    "\n",
    "// Accessing and displaying values using their indexes\n",
    "console.log(sports[0]); // Output: soccer\n",
    "console.log(sports[3]); // Output: wrestling\n"
   ]
  },
  {
   "cell_type": "code",
   "execution_count": null,
   "metadata": {
    "vscode": {
     "languageId": "javascript"
    }
   },
   "outputs": [],
   "source": [
    "%%js\n",
    "// JS HW Hack 3: Adding and Removing Items\n",
    "\n",
    "let choresList = [\"laundry\", \"dishes\", \"vacuuming\", \"grocery shopping\"];\n",
    "console.log(\"Initial chores list:\", choresList);\n",
    "\n",
    "// Step 2: Use push() to add an item\n",
    "choresList.push(\"cleaning the bathroom\");\n",
    "console.log(\"After push:\", choresList); // Output: [\"laundry\", \"dishes\", \"vacuuming\", \"grocery shopping\", \"cleaning the bathroom\"]\n",
    "\n",
    "// Step 3: Use shift() to remove the first item\n",
    "choresList.shift();\n",
    "console.log(\"After shift:\", choresList); // Output: [\"dishes\", \"vacuuming\", \"grocery shopping\", \"cleaning the bathroom\"]\n",
    "\n",
    "// Step 4: Use pop() to remove the last item\n",
    "choresList.pop();\n",
    "console.log(\"After pop:\", choresList); // Output: [\"dishes\", \"vacuuming\", \"grocery shopping\"]\n",
    "\n",
    "// Step 5: Use unshift() to add an item to the beginning\n",
    "choresList.unshift(\"mopping\");\n",
    "console.log(\"After unshift:\", choresList); // Output: [\"mopping\", \"dishes\", \"vacuuming\", \"grocery shopping\"]\n",
    "\n",
    "// Bonus: Use push() and spread operator to add multiple values\n",
    "choresList.push(...[\"taking out trash\", \"dusting\", \"organizing\"]);\n",
    "console.log(\"After adding multiple chores:\", choresList); \n",
    "// Output: [\"mopping\", \"dishes\", \"vacuuming\", \"grocery shopping\", \"taking out trash\", \"dusting\", \"organizing\"]\n"
   ]
  },
  {
   "cell_type": "code",
   "execution_count": null,
   "metadata": {
    "vscode": {
     "languageId": "javascript"
    }
   },
   "outputs": [],
   "source": [
    "%%js\n",
    "// JS HW Hack 4: Iterations and Conditionals\n",
    "\n",
    "let randomNumbers = [12, 7, 19, 24, 35, 8, 42, 5, 14, 27];\n",
    "console.log(\"Random Numbers:\", randomNumbers);\n",
    "\n",
    "// Step 2: Function to count even numbers\n",
    "function countEvenNumbers(arr) {\n",
    "    let count = 0; // Initialize count variable\n",
    "    for (let number of arr) { // Iterate through the array\n",
    "        if (number % 2 === 0) { // Check if the number is even\n",
    "            count++; // Increment the count if even\n",
    "        }\n",
    "    }\n",
    "    return count; // Return the total count of even numbers\n",
    "}\n",
    "\n",
    "// Step 3: Call the function and display the output\n",
    "let evenCount = countEvenNumbers(randomNumbers);\n",
    "console.log(\"Count of even numbers:\", evenCount);\n"
   ]
  }
 ],
 "metadata": {
  "kernelspec": {
   "display_name": "venv",
   "language": "python",
   "name": "python3"
  },
  "language_info": {
   "codemirror_mode": {
    "name": "ipython",
    "version": 3
   },
   "file_extension": ".py",
   "mimetype": "text/x-python",
   "name": "python",
   "nbconvert_exporter": "python",
   "pygments_lexer": "ipython3",
   "version": "3.12.3"
  }
 },
 "nbformat": 4,
 "nbformat_minor": 2
}
