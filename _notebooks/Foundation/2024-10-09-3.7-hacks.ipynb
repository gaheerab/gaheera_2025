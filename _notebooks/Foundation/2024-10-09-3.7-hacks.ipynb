{
 "cells": [
  {
   "cell_type": "raw",
   "metadata": {
    "vscode": {
     "languageId": "raw"
    }
   },
   "source": [
    "---\n",
    "layout: post\n",
    "title: Gaheera Babbar P4 Popcorn Hacks 3.7\n",
    "description: 3.7 Lesson Popcorn and Homework Hacks\n",
    "categories: [Python]\n",
    "menu: nav/tools_setup.html\n",
    "toc: true\n",
    "comments: true\n",
    "---"
   ]
  },
  {
   "cell_type": "code",
   "execution_count": 1,
   "metadata": {},
   "outputs": [
    {
     "name": "stdout",
     "output_type": "stream",
     "text": [
      "The weather is sunny\n",
      "Your transportation is available\n",
      "Your boots are not present\n",
      "You need to find your boots first.\n"
     ]
    }
   ],
   "source": [
    "#Python Popcorn Hack 1: Try adding an additional condition for hiking\n",
    "#I added the conditions checking for water and sunscreen\n",
    "weather = \"sunny\"\n",
    "transportation = \"available\"\n",
    "boots = \"not present\"\n",
    "water = \"brought\" #New Variable\n",
    "sunscreen = \"applied\" #New Variable\n",
    "\n",
    "print(\"The weather is \" + weather)\n",
    "print(\"Your transportation is \" + transportation)\n",
    "print(\"Your boots are \" + boots)\n",
    "print(\"Your water is \" + water)\n",
    "print(\"Your sunscreen is \" + sunscreen) \n",
    "\n",
    "if weather == \"sunny\":\n",
    "    if transportation == \"available\":\n",
    "        if boots == \"present\":\n",
    "            if water == \"brought\" and sunscreen == \"applied\": #New Conditionals, checks for water and sunscreen\n",
    "                print(\"You are fully ready to go hiking!\")\n",
    "            else:\n",
    "                print(\"Make sure to bring water and apply sunscreen.\")\n",
    "        else:\n",
    "            print(\"You need to find your boots first.\")\n",
    "    else:\n",
    "        print(\"You need to arrange transportation.\")\n",
    "else:\n",
    "    print(\"It's not good weather for hiking.\")\n",
    "\n"
   ]
  },
  {
   "cell_type": "code",
   "execution_count": 6,
   "metadata": {},
   "outputs": [
    {
     "name": "stdout",
     "output_type": "stream",
     "text": [
      "You need to get more snacks. Ideas: Popcorn, Candy, Soda\n"
     ]
    }
   ],
   "source": [
    "#Python Bonus Popcorn Hack: Movie Night\n",
    "#I changed the boolean values for the projector and snacks, resulting in the print \"You need to get more snacks\" instead.\n",
    "living_room_available = True\n",
    "projector_working = True #Changed boolean value from false to true\n",
    "enough_snacks = False #Changed boolean value from true to false\n",
    "\n",
    "if living_room_available:\n",
    "    if projector_working:\n",
    "        if enough_snacks:\n",
    "            print(\"You're ready to host the movie night!\")\n",
    "        else:\n",
    "            print(\"You need to get more snacks. Ideas: Popcorn, Candy, Soda\")\n",
    "    else:\n",
    "        print(\"You need to fix or replace the projector.\")\n",
    "else:\n",
    "    print(\"The living room is not available for the movie night. Find another room!\")"
   ]
  },
  {
   "cell_type": "code",
   "execution_count": 7,
   "metadata": {},
   "outputs": [
    {
     "name": "stdout",
     "output_type": "stream",
     "text": [
      "You are ready for the beach!\n"
     ]
    }
   ],
   "source": [
    "#Python Homework 1: Write Python pseudocode to decide whether or not to go to the beach.\n",
    "# Define the variables for weather, sunscreen, and snacks\n",
    "weather = \"sunny\"  # Can be \"sunny\" or something else\n",
    "sunscreen = \"have\"  # Can be \"have\" or \"not have\"\n",
    "snacks = \"enough\"  # Can be \"enough\" or \"not enough\"\n",
    "\n",
    "# Check the conditions\n",
    "if weather == \"sunny\":  # Check if the weather is sunny\n",
    "    if sunscreen == \"have\":  # Check if you have sunscreen\n",
    "        if snacks == \"enough\":  # Check if you have enough snacks\n",
    "            print(\"You are ready for the beach!\")  # All conditions met\n",
    "        else:\n",
    "            print(\"You need to get more snacks first.\")  # Missing snacks\n",
    "    else:\n",
    "        print(\"You need to buy sunscreen.\")  # Missing sunscreen\n",
    "else:\n",
    "    print(\"It's not a good day for the beach.\")  # Weather is not sunny\n",
    "\n"
   ]
  },
  {
   "cell_type": "code",
   "execution_count": 10,
   "metadata": {},
   "outputs": [
    {
     "name": "stdout",
     "output_type": "stream",
     "text": [
      "You can adopt a pet!\n"
     ]
    }
   ],
   "source": [
    "#Python Homework 2: Write a Python code that checks if you can adopt a pet.\n",
    "\n",
    "at_least_18_yrs_old = True\n",
    "at_least_50_sqr_ft = True\n",
    "possible_pet_care = True\n",
    "#Check Conditions\n",
    "if at_least_18_yrs_old:\n",
    "    if at_least_50_sqr_ft:\n",
    "        if possible_pet_care:\n",
    "             print(\"You can adopt a pet!\") #all conditions met\n",
    "        else:\n",
    "            print(\"You must be able to make time for the pet.\") #cannot care for pet\n",
    "    else:\n",
    "        print(\"You must have a bigger home.\") #not enough space\n",
    "else:\n",
    "    print(\"You must be 18 to adopt a pet\") #not old enough\n"
   ]
  },
  {
   "cell_type": "code",
   "execution_count": 13,
   "metadata": {},
   "outputs": [
    {
     "name": "stdout",
     "output_type": "stream",
     "text": [
      "You are ready for the marathon.\n"
     ]
    }
   ],
   "source": [
    "#Python Homework 3: Write Python code to determine whether or not to participate in a marathon.\n",
    "weather_clear = True\n",
    "have_running_shoes = True\n",
    "ten_days_of_practice = True\n",
    "if weather_clear:\n",
    "    if have_running_shoes:\n",
    "        if ten_days_of_practice:\n",
    "            print(\"You are ready for the marathon.\")\n",
    "        else:\n",
    "            print(\"You need to practice more.\")\n",
    "    else:\n",
    "        (\"You need to buy running shoes\")\n",
    "else: \n",
    "    (\"It is not the right time for a marathon\")\n",
    "    "
   ]
  },
  {
   "cell_type": "code",
   "execution_count": null,
   "metadata": {
    "vscode": {
     "languageId": "javascript"
    }
   },
   "outputs": [],
   "source": [
    "%%js\n",
    "// JS Popcorn Hack 1: Try adding an additional condition for hiking\n",
    "//I added the conditions checking for water and sunscreen\n",
    "let weather = \"sunny\";\n",
    "let transportation = \"available\";\n",
    "let boots = \"not present\";\n",
    "let water = \"brought\"; //water conditional added\n",
    "let sunscreen = \"applied\"; //sunscreen conditional added\n",
    "\n",
    "console.log(\"The weather is \" + weather);\n",
    "console.log(\"Your transportation is \" + transportation);\n",
    "console.log(\"Your boots are \" + boots);\n",
    "console.log(\"Your water is \" + water);\n",
    "console.log(\"Your sunscreen is \" + sunscreen);\n",
    "\n",
    "if (weather === \"sunny\") {\n",
    "    if (transportation === \"available\") {\n",
    "        if (boots === \"present\") {\n",
    "            if (water === \"brought\" && sunscreen === \"applied\") {\n",
    "                console.log(\"You are fully ready to go hiking!\");\n",
    "            } else {\n",
    "                console.log(\"Make sure to bring water and apply sunscreen.\");\n",
    "            }\n",
    "        } else {\n",
    "            console.log(\"You need to find your boots first.\");\n",
    "        }\n",
    "    } else {\n",
    "        console.log(\"You need to arrange transportation.\");\n",
    "    }\n",
    "} else {\n",
    "    console.log(\"It's not good weather for hiking.\");\n",
    "}\n",
    "\n"
   ]
  },
  {
   "cell_type": "code",
   "execution_count": null,
   "metadata": {
    "vscode": {
     "languageId": "javascript"
    }
   },
   "outputs": [],
   "source": [
    "%%js\n",
    "// JS Popcorn Hack 2: Changing Booleans\n",
    "// I changed the projetor boolean value and snack boolean value, changing the output print to \"You need to get more snacks.\"\n",
    "let living_room_available = true;\n",
    "let projector_working = true; //changed boolean value from false to true\n",
    "let enough_snacks = false; //changed boolean value from true to false\n",
    "\n",
    "if (living_room_available) {\n",
    "    if (projector_working) {\n",
    "        if (enough_snacks) {\n",
    "            console.log(\"You're ready to host the movie night!\");\n",
    "        } else {\n",
    "            console.log(\"You need to get more snacks. Ideas: Popcorn, Candy, Soda\");\n",
    "        }\n",
    "    } else {\n",
    "        console.log(\"You need to fix or replace the projector.\");\n",
    "    }\n",
    "} else {\n",
    "    console.log(\"The living room is not available for the movie night. Find another room!\");\n",
    "}\n"
   ]
  },
  {
   "cell_type": "code",
   "execution_count": 15,
   "metadata": {
    "vscode": {
     "languageId": "javascript"
    }
   },
   "outputs": [
    {
     "data": {
      "application/javascript": "// JS Homework Hack 1: Write Javascript pseudocode to decide whether or not to study for an exam.\n// Define the variables for study materials, quiet place, and tiredness\nlet hasMaterials = true;\nlet quietPlace = true;  \nlet isTired = false; \n\n// Check the conditions\nif (hasMaterials) {  // Check if you have your study materials\n    if (quietPlace) {  // Check if you have a quiet place to study\n        if (!isTired) {  // Check if you are not feeling too tired\n            console.log(\"You are ready to study!\");  // All conditions met\n        } else {\n            console.log(\"You should take a nap or rest before studying.\");  // Too tired\n        }\n    } else {\n        console.log(\"You need to find a quiet place to study.\");  // No quiet place\n    }\n} else {\n    console.log(\"You need to gather your study materials first.\");  // Missing materials\n}\n\n",
      "text/plain": [
       "<IPython.core.display.Javascript object>"
      ]
     },
     "metadata": {},
     "output_type": "display_data"
    }
   ],
   "source": [
    "%%js\n",
    "// JS Homework Hack 1: Write Javascript pseudocode to decide whether or not to study for an exam.\n",
    "// Define the variables for study materials, quiet place, and tiredness\n",
    "let hasMaterials = true;\n",
    "let quietPlace = true;  \n",
    "let isTired = false; \n",
    "\n",
    "// Check the conditions\n",
    "if (hasMaterials) {  // Check if you have your study materials\n",
    "    if (quietPlace) {  // Check if you have a quiet place to study\n",
    "        if (!isTired) {  // Check if you are not feeling too tired\n",
    "            console.log(\"You are ready to study!\");  // All conditions met\n",
    "        } else {\n",
    "            console.log(\"You should take a nap or rest before studying.\");  // Too tired\n",
    "        }\n",
    "    } else {\n",
    "        console.log(\"You need to find a quiet place to study.\");  // No quiet place\n",
    "    }\n",
    "} else {\n",
    "    console.log(\"You need to gather your study materials first.\");  // Missing materials\n",
    "}\n",
    "\n"
   ]
  },
  {
   "cell_type": "code",
   "execution_count": 16,
   "metadata": {
    "vscode": {
     "languageId": "javascript"
    }
   },
   "outputs": [
    {
     "data": {
      "application/javascript": "// JS Homework Hack 2: Write Javascript code deciding whether or not you can bake a cake.\n// Define the variables for ingredients, oven status, and time\nlet hasFlour = true;  // true if you have flour\nlet hasEggs = true;   // true if you have eggs\nlet hasSugar = false; // true if you have sugar\nlet ovenWorking = true;  // true if the oven is working\nlet timeAvailable = 2.5; // Time available in hours\n\n// Check if you have all ingredients\nif (hasFlour && hasEggs && hasSugar) {\n    // Check if the oven is working\n    if (ovenWorking) {\n        // Check if you have at least 2 hours\n        if (timeAvailable >= 2) {\n            console.log(\"You can start baking the cake!\");  // All conditions met\n        } else {\n            console.log(\"You need to find more time to bake and cool the cake.\");  // Not enough time\n        }\n    } else {\n        console.log(\"You need to fix or replace the oven.\");  // Oven not working\n    }\n} else {\n    // Determine what ingredients are missing\n    let missingIngredients = [];\n    if (!hasFlour) missingIngredients.push(\"flour\");\n    if (!hasEggs) missingIngredients.push(\"eggs\");\n    if (!hasSugar) missingIngredients.push(\"sugar\");\n    \n    console.log(\"You are missing the following ingredients: \" + missingIngredients.join(\", \"));  // Missing ingredients\n}\n\n\n\n",
      "text/plain": [
       "<IPython.core.display.Javascript object>"
      ]
     },
     "metadata": {},
     "output_type": "display_data"
    }
   ],
   "source": [
    "%%js\n",
    "// JS Homework Hack 2: Write Javascript code deciding whether or not you can bake a cake.\n",
    "// Define the variables for ingredients, oven status, and time\n",
    "let hasFlour = true;  // true if you have flour\n",
    "let hasEggs = true;   // true if you have eggs\n",
    "let hasSugar = false; // true if you have sugar\n",
    "let ovenWorking = true;  // true if the oven is working\n",
    "let timeAvailable = 2.5; // Time available in hours\n",
    "\n",
    "// Check if you have all ingredients\n",
    "if (hasFlour && hasEggs && hasSugar) {\n",
    "    // Check if the oven is working\n",
    "    if (ovenWorking) {\n",
    "        // Check if you have at least 2 hours\n",
    "        if (timeAvailable >= 2) {\n",
    "            console.log(\"You can start baking the cake!\");  // All conditions met\n",
    "        } else {\n",
    "            console.log(\"You need to find more time to bake and cool the cake.\");  // Not enough time\n",
    "        }\n",
    "    } else {\n",
    "        console.log(\"You need to fix or replace the oven.\");  // Oven not working\n",
    "    }\n",
    "} else {\n",
    "    // Determine what ingredients are missing\n",
    "    let missingIngredients = [];\n",
    "    if (!hasFlour) missingIngredients.push(\"flour\");\n",
    "    if (!hasEggs) missingIngredients.push(\"eggs\");\n",
    "    if (!hasSugar) missingIngredients.push(\"sugar\");\n",
    "    \n",
    "    console.log(\"You are missing the following ingredients: \" + missingIngredients.join(\", \"));  // Missing ingredients\n",
    "}\n",
    "\n",
    "\n",
    "\n"
   ]
  },
  {
   "cell_type": "code",
   "execution_count": 17,
   "metadata": {
    "vscode": {
     "languageId": "javascript"
    }
   },
   "outputs": [
    {
     "data": {
      "application/javascript": "// JS Homework Hack 3: Write Javascript code to decide whether or not you can go camping.\n// Define the variables for weather, tent, and food/water\nlet weather = \"clear\";  // Can be \"clear\" or something else\nlet hasTent = true;     // true if you have a tent\nlet enoughFoodAndWater = false;  // true if you have enough food and water for the trip\n\n// Check the conditions\nif (weather === \"clear\") {  // Check if the weather is clear\n    if (hasTent) {  // Check if you have a tent\n        if (enoughFoodAndWater) {  // Check if you have enough food and water\n            console.log(\"You are ready to go camping!\");  // All conditions met\n        } else {\n            console.log(\"You need to pack more food and water.\");  // Missing food or water\n        }\n    } else {\n        console.log(\"You need to buy or borrow a tent.\");  // No tent\n    }\n} else {\n    console.log(\"It's not a good time for camping due to the weather.\");  // Bad weather\n}\n",
      "text/plain": [
       "<IPython.core.display.Javascript object>"
      ]
     },
     "metadata": {},
     "output_type": "display_data"
    }
   ],
   "source": [
    "%%js\n",
    "// JS Homework Hack 3: Write Javascript code to decide whether or not you can go camping.\n",
    "// Define the variables for weather, tent, and food/water\n",
    "let weather = \"clear\";  // Can be \"clear\" or something else\n",
    "let hasTent = true;     // true if you have a tent\n",
    "let enoughFoodAndWater = false;  // true if you have enough food and water for the trip\n",
    "\n",
    "// Check the conditions\n",
    "if (weather === \"clear\") {  // Check if the weather is clear\n",
    "    if (hasTent) {  // Check if you have a tent\n",
    "        if (enoughFoodAndWater) {  // Check if you have enough food and water\n",
    "            console.log(\"You are ready to go camping!\");  // All conditions met\n",
    "        } else {\n",
    "            console.log(\"You need to pack more food and water.\");  // Missing food or water\n",
    "        }\n",
    "    } else {\n",
    "        console.log(\"You need to buy or borrow a tent.\");  // No tent\n",
    "    }\n",
    "} else {\n",
    "    console.log(\"It's not a good time for camping due to the weather.\");  // Bad weather\n",
    "}\n"
   ]
  }
 ],
 "metadata": {
  "kernelspec": {
   "display_name": "venv",
   "language": "python",
   "name": "python3"
  },
  "language_info": {
   "codemirror_mode": {
    "name": "ipython",
    "version": 3
   },
   "file_extension": ".py",
   "mimetype": "text/x-python",
   "name": "python",
   "nbconvert_exporter": "python",
   "pygments_lexer": "ipython3",
   "version": "3.12.3"
  }
 },
 "nbformat": 4,
 "nbformat_minor": 2
}
