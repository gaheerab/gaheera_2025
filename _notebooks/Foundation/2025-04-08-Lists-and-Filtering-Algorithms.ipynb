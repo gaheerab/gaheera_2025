{
  "cells": [
    {
      "cell_type": "raw",
      "metadata": {
        "vscode": {
          "languageId": "raw"
        }
      },
      "source": [
        "---\n",
        "layout: post\n",
        "title: Gaheera Babbar Lists and Filtering Algorithms W Hacks\n",
        "description: Big Idea 5 Lists and Filtering ALgorithms Team Teach HW Hacks\n",
        "categories: [Python]\n",
        "menu: nav/tools_setup.html\n",
        "toc: true\n",
        "comments: true\n",
        "---"
      ]
    },
    {
      "cell_type": "markdown",
      "metadata": {},
      "source": [
        "## Popcorn Hack 1\n",
        "### Create a list named movies containing your four favorite movies. Write Python code to replace the second movie with a new movie, add another movie to the list, and display the updated list.\n"
      ]
    }
  ],
  "metadata": {
    "colab": {
      "provenance": []
    },
    "kernelspec": {
      "display_name": "Python 3",
      "name": "python3"
    },
    "language_info": {
      "name": "python"
    }
  },
  "nbformat": 4,
  "nbformat_minor": 0
}
