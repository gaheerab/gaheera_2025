{
  "cells": [
    {
      "cell_type": "raw",
      "metadata": {
        "vscode": {
          "languageId": "raw"
        }
      },
      "source": [
        "---\n",
        "layout: post\n",
        "title: Gaheera Babbar Lists and Filtering Algorithms HW Hacks\n",
        "description: Big Idea 5 Lists and Filtering Algorithms Team Teach HW Hacks\n",
        "categories: [Python]\n",
        "menu: nav/tools_setup.html\n",
        "toc: true\n",
        "comments: true\n",
        "---"
      ]
    },
    {
      "cell_type": "markdown",
      "metadata": {},
      "source": [
        "## Popcorn Hack 1\n",
        "### Create a list named movies containing your four favorite movies. Write Python code to replace the second movie with a new movie, add another movie to the list, and display the updated list.\n"
      ]
    },
    {
      "cell_type": "code",
      "execution_count": 1,
      "metadata": {},
      "outputs": [
        {
          "name": "stdout",
          "output_type": "stream",
          "text": [
            "Updated movie list: ['La La Land', 'Interstellar', 'Aladdin', 'Devil Wears Prada', 'Crazy Rich Asians']\n"
          ]
        }
      ],
      "source": [
        "# Step 1: The original list\n",
        "movies = [\"La La Land\", \"Harry Potter and the Prisoner of Azkaban\", \"Aladdin\", \"Devil Wears Prada\"]\n",
        "\n",
        "# Step 2: Replace the second movie with a new one\n",
        "movies[1] = \"Interstellar\"\n",
        "\n",
        "# Step 3: Add another movie to the list\n",
        "movies.append(\"Crazy Rich Asians\")\n",
        "\n",
        "# Step 4: Display the updated list\n",
        "print(\"Updated movie list:\", movies)\n"
      ]
    },
    {
      "cell_type": "markdown",
      "metadata": {},
      "source": [
        "## Popcorn Hack 2\n",
        "### Given the list ages = [15, 20, 34, 16, 18, 21, 14, 19], write Python code to create a new list containing only ages that are eligible for voting (18 or older)."
      ]
    },
    {
      "cell_type": "code",
      "execution_count": 2,
      "metadata": {},
      "outputs": [
        {
          "name": "stdout",
          "output_type": "stream",
          "text": [
            "Eligible ages for voting: [20, 34, 18, 21, 19]\n"
          ]
        }
      ],
      "source": [
        "ages = [15, 20, 34, 16, 18, 21, 14, 19]\n",
        "\n",
        "# Create a new list using list comprehension\n",
        "eligible_ages = [age for age in ages if age >= 18]\n",
        "\n",
        "# Display the result\n",
        "print(\"Eligible ages for voting:\", eligible_ages)\n"
      ]
    },
    {
      "cell_type": "markdown",
      "metadata": {},
      "source": [
        "## Homework Hack #1: Watch both the videos and write notes on them\n",
        "\n",
        "3 bullet points per video\n",
        "If you have more than 6 bullet points per video you will be rewarded\n",
        "\n",
        "### Complete Python List Tutorial\n",
        "- lists are built in data structure for storing and accessing objects that belong in a specific sequence\n",
        "- Lists can be created with list constructors or brackets, which are simpler\n",
        "- Append allows you to add new values to the end of the list\n",
        "- lists preserve the order of the data, unlike sets\n",
        "- index allows you to access a specific value of a list\n",
        "- You will get an index error if you try wrapping aroudn twice\n",
        "- Slicing allows you to retrieve a range of values from your list\n",
        "\n",
        "### How to filter lists in Python\n",
        "- In a for loop, you must loop through all values and append the new value to the list\n",
        "- list comprehension uses backets and give the exact same result\n",
        "- Concise Syntax: List comprehensions provide a compact way to create lists in Python, making code more readable and concise compared to traditional loops.​\n",
        "- Basic Structure: The general syntax is [expression for item in iterable], where expression is evaluated for each item in the iterable.​\n",
        "- Conditional Filtering: You can include an optional condition to filter items: [expression for item in iterable if condition], which includes only items that satisfy the condition.​\n",
        "- Nested Comprehensions: List comprehensions can be nested to handle multi-dimensional data structures, e.g., [[expression for item in sublist] for sublist in list].​\n",
        "- Performance Benefits: Using list comprehensions can lead to performance improvements, as they are optimized for creating new lists.​\n",
        "- Alternative to map() and filter(): List comprehensions offer a more readable alternative to using the map() and filter() functions for transforming and filtering data.\n",
        "\n",
        "## Homework Hack #2: Create Python code that:\n",
        "\n",
        "Initializes a list containing numbers from 1 to 30.\n",
        "Filters out and displays numbers divisible by 3 but not by 5.\n",
        "Prints both the original and filtered lists clearly."
      ]
    },
    {
      "cell_type": "code",
      "execution_count": 3,
      "metadata": {},
      "outputs": [
        {
          "name": "stdout",
          "output_type": "stream",
          "text": [
            "Original list of numbers:\n",
            "[1, 2, 3, 4, 5, 6, 7, 8, 9, 10, 11, 12, 13, 14, 15, 16, 17, 18, 19, 20, 21, 22, 23, 24, 25, 26, 27, 28, 29, 30]\n",
            "\n",
            "Filtered list (numbers divisible by 3 but not by 5):\n",
            "[3, 6, 9, 12, 18, 21, 24, 27]\n"
          ]
        }
      ],
      "source": [
        "# Initialize a list containing numbers from 1 to 30\n",
        "numbers = list(range(1, 31))\n",
        "\n",
        "# Filter out numbers divisible by 3 but not by 5\n",
        "filtered_numbers = [num for num in numbers if num % 3 == 0 and num % 5 != 0]\n",
        "\n",
        "# Print the original list\n",
        "print(\"Original list of numbers:\")\n",
        "print(numbers)\n",
        "\n",
        "# Print the filtered list\n",
        "print(\"\\nFiltered list (numbers divisible by 3 but not by 5):\")\n",
        "print(filtered_numbers)\n"
      ]
    },
    {
      "cell_type": "markdown",
      "metadata": {},
      "source": [
        "## Homework Hack 3 (Bonus Challenge): Develop a function named filter_spotify_data that:\n",
        "\n",
        "Reads data from the Spotify Global Streaming Data 2024 CSV.\n",
        "Filters and returns songs with over 10 million streams.\n",
        "Clearly display the filtered data in your program."
      ]
    },
    {
      "cell_type": "code",
      "execution_count": 4,
      "metadata": {},
      "outputs": [
        {
          "name": "stdout",
          "output_type": "stream",
          "text": [
            "           Artist                    Album  Total Streams (Millions)  \\\n",
            "0    Taylor Swift  1989 (Taylor's Version)                   3695.53   \n",
            "1      The Weeknd              After Hours                   2828.16   \n",
            "2     Post Malone                   Austin                   1425.46   \n",
            "3      Ed Sheeran        Autumn Variations                   2704.33   \n",
            "4      Ed Sheeran        Autumn Variations                   3323.25   \n",
            "..            ...                      ...                       ...   \n",
            "495       Karol G       MAÑANA SERÁ BONITO                   2947.97   \n",
            "496      Dua Lipa         Future Nostalgia                   4418.61   \n",
            "497       Karol G       MAÑANA SERÁ BONITO                   2642.90   \n",
            "498           SZA                      SOS                   4320.23   \n",
            "499           BTS                    Proof                   4804.15   \n",
            "\n",
            "           Country  \n",
            "0          Germany  \n",
            "1           Brazil  \n",
            "2    United States  \n",
            "3            Italy  \n",
            "4            Italy  \n",
            "..             ...  \n",
            "495         Brazil  \n",
            "496         Canada  \n",
            "497        Germany  \n",
            "498         Canada  \n",
            "499         Sweden  \n",
            "\n",
            "[500 rows x 4 columns]\n"
          ]
        }
      ],
      "source": [
        "import pandas as pd\n",
        "\n",
        "# Load the dataset\n",
        "file_path = 'Spotify_2024_Global_Streaming_Data.csv'\n",
        "data = pd.read_csv(file_path)\n",
        "\n",
        "# Filter the data for songs with over 10 million streams\n",
        "filtered_data = data[data['Total Streams (Millions)'] > 10]\n",
        "\n",
        "# Display the filtered data\n",
        "print(filtered_data[['Artist', 'Album', 'Total Streams (Millions)', 'Country']])\n"
      ]
    }
  ],
  "metadata": {
    "colab": {
      "provenance": []
    },
    "kernelspec": {
      "display_name": "venv",
      "language": "python",
      "name": "python3"
    },
    "language_info": {
      "codemirror_mode": {
        "name": "ipython",
        "version": 3
      },
      "file_extension": ".py",
      "mimetype": "text/x-python",
      "name": "python",
      "nbconvert_exporter": "python",
      "pygments_lexer": "ipython3",
      "version": "3.12.3"
    }
  },
  "nbformat": 4,
  "nbformat_minor": 0
}
