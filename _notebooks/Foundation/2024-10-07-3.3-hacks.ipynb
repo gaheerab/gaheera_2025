{
 "cells": [
  {
   "cell_type": "raw",
   "metadata": {
    "vscode": {
     "languageId": "raw"
    }
   },
   "source": [
    "---\n",
    "layout: post\n",
    "title: Gaheera Babbar P4 Popcorn Hacks 3.3\n",
    "description: 3.3 Lesson Popcorn and Homework Hacks\n",
    "categories: [Python]\n",
    "menu: nav/tools_setup.html\n",
    "toc: true\n",
    "comments: true\n",
    "---"
   ]
  },
  {
   "cell_type": "code",
   "execution_count": 3,
   "metadata": {},
   "outputs": [],
   "source": [
    "# Popcorn Hack 1: Prompt the user to enter a number n. Initialize total_sum to 0. Use a loop to iterate from 1 to n. Add each number to total_sum. Print the total_sum. (Python)\n",
    "# Function to get valid integer input\n",
    "def integer():\n",
    "    while True:\n",
    "        try:\n",
    "            n = int(input(\"Enter a number: \"))\n",
    "            return n  # If input is valid, return the number\n",
    "        except ValueError:\n",
    "            print(\"Invalid input. Please enter a valid integer.\")\n",
    "\n",
    "# Get a valid number from the user\n",
    "n = integer()\n",
    "\n",
    "# Initialize total_sum to 0\n",
    "total_sum = 0\n",
    "\n",
    "# Use a loop to iterate from 1 to n and add each number to total_sum\n",
    "for i in range(1, n + 1):\n",
    "    total_sum += i\n"
   ]
  },
  {
   "cell_type": "code",
   "execution_count": 2,
   "metadata": {},
   "outputs": [
    {
     "name": "stdout",
     "output_type": "stream",
     "text": [
      "Arithmetic Mean: 30\n",
      "Median: 30\n",
      "Collatz sequence: [13, 40, 20, 10, 5, 16, 8, 4, 2, 1]\n"
     ]
    }
   ],
   "source": [
    "#Homework Hack 1\n",
    "import statistics\n",
    "\n",
    "def compute_mean_and_median(numbers):\n",
    "    # Compute the arithmetic mean\n",
    "    mean = statistics.mean(numbers)\n",
    "    \n",
    "    # Compute the median\n",
    "    median = statistics.median(numbers)\n",
    "    \n",
    "    # Print the results\n",
    "    print(f\"Arithmetic Mean: {mean}\")\n",
    "    print(f\"Median: {median}\")\n",
    "\n",
    "# Example usage\n",
    "numbers = [10, 20, 30, 40, 50]\n",
    "compute_mean_and_median(numbers)\n",
    "\n",
    "def collatz_sequence(a):\n",
    "    sequence = [a]  # Start the sequence with the initial value a\n",
    "    \n",
    "    # Loop until the value of a becomes 1\n",
    "    while a != 1:\n",
    "        if a % 2 == 0:\n",
    "            a = a // 2  # If a is even, divide by 2\n",
    "        else:\n",
    "            a = 3 * a + 1  # If a is odd, multiply by 3 and add 1\n",
    "        sequence.append(a)  # Add the result to the sequence\n",
    "    \n",
    "    # Print the sequence\n",
    "    print(\"Collatz sequence:\", sequence)\n",
    "\n",
    "# Example usage\n",
    "collatz_sequence(13)\n"
   ]
  },
  {
   "cell_type": "code",
   "execution_count": 16,
   "metadata": {},
   "outputs": [
    {
     "name": "stdout",
     "output_type": "stream",
     "text": [
      "List of fruits:\n",
      "apple\n",
      "banana\n",
      "cherry\n",
      "date\n",
      "Repetition 1: TWhat is your favorite fruit?\n",
      "Repetition 2: TWhat is your favorite fruit?\n",
      "Repetition 3: TWhat is your favorite fruit?\n",
      "Repetition 4: TWhat is your favorite fruit?\n",
      "Repetition 5: TWhat is your favorite fruit?\n"
     ]
    }
   ],
   "source": [
    "#Extra Python Practice: Iteration and Repetition\n",
    "# Iteration: Using a for loop to iterate over a list\n",
    "def iterate_over_list():\n",
    "    fruits = [\"apple\", \"banana\", \"cherry\", \"date\"]\n",
    "    print(\"List of fruits:\")\n",
    "    for fruit in fruits:\n",
    "        print(fruit)\n",
    "\n",
    "# Repetition: Using a while loop to repeat an action\n",
    "def repeat_until_condition():\n",
    "    counter = 0\n",
    "    while counter < 5:\n",
    "        print(f\"Repetition {counter + 1}: TWhat is your favorite fruit?\")\n",
    "        counter += 1\n",
    "\n",
    "# Calling the functions\n",
    "iterate_over_list()\n",
    "repeat_until_condition()\n"
   ]
  },
  {
   "cell_type": "code",
   "execution_count": 14,
   "metadata": {
    "vscode": {
     "languageId": "javascript"
    }
   },
   "outputs": [
    {
     "data": {
      "application/javascript": "\n// Popcorn Hack 2: Create a function that uses 4 of the 5 basic arithmetic operations and returns the number 32 as the answer. (Javascript)\nfunction calculate32() {\n    // Using four arithmetic operations: +, -, *, /\n    let result = (8 * 5) - (4 / 2) + 6;  // 8*5 = 40, 4/2 = 2, 40 - 2 + 6 = 44\n    result = result - 12;  // Final adjustment to get 32 (44 - 12 = 32)\n    return result;\n}\n\n// Call the function and log the result\nconsole.log(calculate32());  // Output: 32\n",
      "text/plain": [
       "<IPython.core.display.Javascript object>"
      ]
     },
     "metadata": {},
     "output_type": "display_data"
    }
   ],
   "source": [
    "%%js\n",
    "\n",
    "// Popcorn Hack 2: Create a function that uses 4 of the 5 basic arithmetic operations and returns the number 32 as the answer. (Javascript)\n",
    "function calculate32() {\n",
    "    // Using four arithmetic operations: +, -, *, /\n",
    "    let result = (8 * 5) - (4 / 2) + 6;  // 8*5 = 40, 4/2 = 2, 40 - 2 + 6 = 44\n",
    "    result = result - 12;  // Final adjustment to get 32 (44 - 12 = 32)\n",
    "    return result;\n",
    "}\n",
    "\n",
    "// Call the function and log the result\n",
    "console.log(calculate32());  // Output: 32\n"
   ]
  },
  {
   "cell_type": "code",
   "execution_count": 15,
   "metadata": {
    "vscode": {
     "languageId": "javascript"
    }
   },
   "outputs": [
    {
     "data": {
      "application/javascript": "//Homework Hack 2\nfunction gcdAndLcm(a, b) {\n    // Helper function to compute GCD using Euclidean algorithm\n    function gcd(x, y) {\n        while (y !== 0) {\n            let temp = y;\n            y = x % y;\n            x = temp;\n        }\n        return x;\n    }\n    \n    // Compute the GCD\n    let gcdResult = gcd(a, b);\n    \n    // Compute the LCM using the relationship: LCM(a, b) = |a * b| / GCD(a, b)\n    let lcmResult = Math.abs(a * b) / gcdResult;\n    \n    // Return both GCD and LCM as an object\n    return {\n        gcd: gcdResult,\n        lcm: lcmResult\n    };\n}\n\n// Example usage\nconsole.log(gcdAndLcm(12, 18));  // Output: { gcd: 6, lcm: 36 }\n",
      "text/plain": [
       "<IPython.core.display.Javascript object>"
      ]
     },
     "metadata": {},
     "output_type": "display_data"
    }
   ],
   "source": [
    "%%js\n",
    "//Homework Hack 2\n",
    "function gcdAndLcm(a, b) {\n",
    "    // Helper function to compute GCD using Euclidean algorithm\n",
    "    function gcd(x, y) {\n",
    "        while (y !== 0) {\n",
    "            let temp = y;\n",
    "            y = x % y;\n",
    "            x = temp;\n",
    "        }\n",
    "        return x;\n",
    "    }\n",
    "    \n",
    "    // Compute the GCD\n",
    "    let gcdResult = gcd(a, b);\n",
    "    \n",
    "    // Compute the LCM using the relationship: LCM(a, b) = |a * b| / GCD(a, b)\n",
    "    let lcmResult = Math.abs(a * b) / gcdResult;\n",
    "    \n",
    "    // Return both GCD and LCM as an object\n",
    "    return {\n",
    "        gcd: gcdResult,\n",
    "        lcm: lcmResult\n",
    "    };\n",
    "}\n",
    "\n",
    "// Example usage\n",
    "console.log(gcdAndLcm(12, 18));  // Output: { gcd: 6, lcm: 36 }\n"
   ]
  },
  {
   "cell_type": "code",
   "execution_count": 18,
   "metadata": {
    "vscode": {
     "languageId": "javascript"
    }
   },
   "outputs": [
    {
     "data": {
      "application/javascript": "//Extra JS Practice: Grocery Prices\n// Function to calculate the total price with 8% sales tax\nfunction groceryPriceCalculator() {\n    // Ask the user for the price of three items\n    let item1 = parseFloat(prompt(\"Enter the price of item 1:\"));\n    let item2 = parseFloat(prompt(\"Enter the price of item 2:\"));\n    let item3 = parseFloat(prompt(\"Enter the price of item 3:\"));\n\n    // Check if the inputs are valid numbers\n    if (isNaN(item1) || isNaN(item2) || isNaN(item3)) {\n        alert(\"Please enter valid prices for all items.\");\n        return;\n    }\n\n    // Sales tax rate (8%)\n    const salesTaxRate = 0.08;\n\n    // Calculate the price with tax for each item\n    let totalItem1 = item1 + (item1 * salesTaxRate);\n    let totalItem2 = item2 + (item2 * salesTaxRate);\n    let totalItem3 = item3 + (item3 * salesTaxRate);\n\n    // Calculate the total price for all items\n    let totalPrice = totalItem1 + totalItem2 + totalItem3;\n\n    // Output the total price\n    alert(\"The total price with tax for all items is: $\" + totalPrice.toFixed(2));\n}\n\n// Call the function to run the calculator\ngroceryPriceCalculator();\n",
      "text/plain": [
       "<IPython.core.display.Javascript object>"
      ]
     },
     "metadata": {},
     "output_type": "display_data"
    }
   ],
   "source": [
    "%%js\n",
    "//Extra JS Practice: Grocery Prices\n",
    "// Function to calculate the total price with 8% sales tax\n",
    "function groceryPriceCalculator() {\n",
    "    // Ask the user for the price of three items\n",
    "    let item1 = parseFloat(prompt(\"Enter the price of item 1:\"));\n",
    "    let item2 = parseFloat(prompt(\"Enter the price of item 2:\"));\n",
    "    let item3 = parseFloat(prompt(\"Enter the price of item 3:\"));\n",
    "\n",
    "    // Check if the inputs are valid numbers\n",
    "    if (isNaN(item1) || isNaN(item2) || isNaN(item3)) {\n",
    "        alert(\"Please enter valid prices for all items.\");\n",
    "        return;\n",
    "    }\n",
    "\n",
    "    // Sales tax rate (8%)\n",
    "    const salesTaxRate = 0.08;\n",
    "\n",
    "    // Calculate the price with tax for each item\n",
    "    let totalItem1 = item1 + (item1 * salesTaxRate);\n",
    "    let totalItem2 = item2 + (item2 * salesTaxRate);\n",
    "    let totalItem3 = item3 + (item3 * salesTaxRate);\n",
    "\n",
    "    // Calculate the total price for all items\n",
    "    let totalPrice = totalItem1 + totalItem2 + totalItem3;\n",
    "\n",
    "    // Output the total price\n",
    "    alert(\"The total price with tax for all items is: $\" + totalPrice.toFixed(2));\n",
    "}\n",
    "\n",
    "// Call the function to run the calculator\n",
    "groceryPriceCalculator();\n"
   ]
  }
 ],
 "metadata": {
  "kernelspec": {
   "display_name": "venv",
   "language": "python",
   "name": "python3"
  },
  "language_info": {
   "codemirror_mode": {
    "name": "ipython",
    "version": 3
   },
   "file_extension": ".py",
   "mimetype": "text/x-python",
   "name": "python",
   "nbconvert_exporter": "python",
   "pygments_lexer": "ipython3",
   "version": "3.12.3"
  }
 },
 "nbformat": 4,
 "nbformat_minor": 2
}
