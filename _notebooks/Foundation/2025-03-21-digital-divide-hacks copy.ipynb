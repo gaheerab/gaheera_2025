{
 "cells": [
  {
   "cell_type": "raw",
   "metadata": {
    "vscode": {
     "languageId": "raw"
    }
   },
   "source": [
    "---\n",
    "layout: post\n",
    "title: Gaheera Babbar Digital Divide \n",
    "description: Big Idea 5 Digital Divide HW Hacks\n",
    "categories: [Python]\n",
    "menu: nav/tools_setup.html\n",
    "toc: true\n",
    "comments: true\n",
    "---"
   ]
  },
  {
   "cell_type": "markdown",
   "metadata": {},
   "source": [
    "# Popcorn Hack 1\n",
    "## Question: Which of the following actions are likely to be helpful in reducing the digital divide? Select two answers.\n",
    "\n",
    "Options\n",
    "\n",
    "A) Designing new technologies intended only for advanced users\n",
    "B) Designing new technologies to be accessible to individuals with different physical abilities\n",
    "C) Implementing government regulations restricting citizens’ access to Web content\n",
    "D) Having world governments support the construction of network infrastructure\n",
    "\n",
    "B and D\n",
    "\n",
    "# Popcorn Hack 2\n",
    "## How would you attempt to fix the digital divide or prevent it from being as prevalent in our community? What are some things that are already being done? What are some things we can add? Explain.\n",
    "One important way to fix the digital dicide it to expand technology distribution programs. This would involve schools, libraries, and nonprofits to provide free or low-cost computers, tablets, and mobile devices to students and low-income families. For example, Google’s Chromebook Distribution Program provides schools with laptops to close the technology gap. Other steps that we can take to reduce this divide is encourage more tech donations and promote tech education in school by integrating code, digital skills, and cybersecurity in schools. \n"
   ]
  },
  {
   "cell_type": "markdown",
   "metadata": {},
   "source": []
  }
 ],
 "metadata": {
  "kernelspec": {
   "display_name": "venv",
   "language": "python",
   "name": "python3"
  },
  "language_info": {
   "codemirror_mode": {
    "name": "ipython",
    "version": 3
   },
   "file_extension": ".py",
   "mimetype": "text/x-python",
   "name": "python",
   "nbconvert_exporter": "python",
   "pygments_lexer": "ipython3",
   "version": "3.12.3"
  }
 },
 "nbformat": 4,
 "nbformat_minor": 2
}
