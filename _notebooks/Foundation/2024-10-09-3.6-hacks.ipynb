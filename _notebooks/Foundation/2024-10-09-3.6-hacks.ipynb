{
 "cells": [
  {
   "cell_type": "raw",
   "metadata": {
    "vscode": {
     "languageId": "raw"
    }
   },
   "source": [
    "---\n",
    "layout: post\n",
    "title: Gaheera Babbar P4 Popcorn Hacks 3.6\n",
    "description: 3.6 Lesson Popcorn and Homework Hacks\n",
    "categories: [Python]\n",
    "menu: nav/tools_setup.html\n",
    "toc: true\n",
    "comments: true\n",
    "---"
   ]
  },
  {
   "cell_type": "code",
   "execution_count": 1,
   "metadata": {},
   "outputs": [
    {
     "name": "stdout",
     "output_type": "stream",
     "text": [
      "It's a cold day\n"
     ]
    }
   ],
   "source": [
    "#Python Conditional Popcorn Hack 1: Adding Temperature Ranges and Modyifying Code\n",
    "#Adding more temperature ranges would require the addition of more if statements and result in more possible outputs.\n",
    "# Step 1: Add a variable that represents temperature\n",
    "temperature = 50  # You can change this value to test different conditions\n",
    "\n",
    "# Step 2: Check if it’s a hot day\n",
    "if temperature >= 80:\n",
    "    print(\"It's a hot day\")\n",
    "elif temperature >= 65:\n",
    "    print(\"It's a warm day\")\n",
    "# Step 3: Otherwise, print it's a cold day\n",
    "else:\n",
    "    print(\"It's a cold day\")\n"
   ]
  },
  {
   "cell_type": "code",
   "execution_count": null,
   "metadata": {},
   "outputs": [],
   "source": [
    "#Python Conditionals Bonus Popcorn Hack 1: How would you modify the code to include a message for a successful login attempt? What additional condition would you need to implement this?\n",
    "#You would need a condition to test if the log in attempt was successful and include a statement sayong what the output statement should be if it was.\n",
    "# Step 1: Create a variable called is_logged_in\n",
    "is_logged_in = False  # You can change this to True to test the other condition\n",
    "\n",
    "# Step 2: Create a variable to represent the success of the login attempt\n",
    "login_success = True  # Change this to False to test unsuccessful login\n",
    "\n",
    "# Step 3: Check if the user is logged in\n",
    "if is_logged_in:\n",
    "    print(\"Welcome back!\")\n",
    "# Step 4: Check if the login attempt was successful\n",
    "elif login_success:\n",
    "    print(\"Login successful! You are now logged in.\")\n",
    "else:\n",
    "    # Step 5: Otherwise, prompt the user to log in\n",
    "    print(\"Please log in.\")\n"
   ]
  },
  {
   "cell_type": "code",
   "execution_count": null,
   "metadata": {
    "vscode": {
     "languageId": "javascript"
    }
   },
   "outputs": [],
   "source": [
    "%%js\n",
    "// JS Conditionals Popcorn Hack 1: Message for scores below 60\n",
    "// I would add an else statement for scores that are not greater than or equal to 60.\n",
    "let score = 85;\n",
    "\n",
    "if (score >= 60) {\n",
    "    console.log(\"You passed!\");\n",
    "} else {\n",
    "    console.log(\"You failed. Better luck next time!\");\n",
    "}\n",
    "\n",
    "\n"
   ]
  },
  {
   "cell_type": "code",
   "execution_count": null,
   "metadata": {
    "vscode": {
     "languageId": "javascript"
    }
   },
   "outputs": [],
   "source": [
    "%%js\n",
    "// JS Conditionals Bonus Popcorn Hack 1: Message for score of exactly 50\n",
    "// I would add an else if statement for scores that are not greater than 60 and are exactly 50.\n",
    "let score = 50;\n",
    "\n",
    "if (score > 60) {\n",
    "    console.log(\"You passed!\");\n",
    "} else if (score === 50) {\n",
    "    console.log(\"You scored exactly 50. Keep trying!\");\n",
    "} else {\n",
    "    console.log(\"You failed!\");\n",
    "}\n"
   ]
  },
  {
   "cell_type": "code",
   "execution_count": 11,
   "metadata": {
    "vscode": {
     "languageId": "javascript"
    }
   },
   "outputs": [
    {
     "data": {
      "application/javascript": "// JS Popocorn Hack 3: Even or Odd?\n// Function to determine if a number is even or odd\nfunction checkEvenOrOdd() {\n    // Prompt the user to input a number\n    let number = parseInt(prompt(\"Enter a number:\"));\n\n    // Check if the input is a valid number\n    if (isNaN(number)) {\n        alert(\"Please enter a valid number.\");\n        return;\n    }\n\n    // Use logical operator to check if the number is even or odd\n    if (number % 2 === 0) {\n        alert(number + \" is an even number.\");\n    } else {\n        alert(number + \" is an odd number.\");\n    }\n}\n\n// Call the function to check if the number is even or odd\ncheckEvenOrOdd();\n",
      "text/plain": [
       "<IPython.core.display.Javascript object>"
      ]
     },
     "metadata": {},
     "output_type": "display_data"
    }
   ],
   "source": [
    "%%js\n",
    "// JS Conditionals Bonus Popocorn Hack 2: Message for scores between 60 and 69\n",
    "// I would add a condition and corresponding grade for scores between 60 to 69\n",
    "if (score >= 90) {\n",
    "    console.log(\"Grade: A\");\n",
    "} else if (score >= 80) {\n",
    "    console.log(\"Grade: B\");\n",
    "} else if (score >= 70) {\n",
    "    console.log(\"Grade: C\");\n",
    "} else if (score >= 60) {\n",
    "    console.log(\"Grade: D\");  // Added for scores between 60 and 69\n",
    "} else {\n",
    "    console.log(\"Grade: F\");\n",
    "}\n"
   ]
  },
  {
   "cell_type": "code",
   "execution_count": 2,
   "metadata": {},
   "outputs": [
    {
     "name": "stdout",
     "output_type": "stream",
     "text": [
      "Even\n",
      "Odd\n",
      "Even\n",
      "Odd\n",
      "Even\n"
     ]
    }
   ],
   "source": [
    "#Python Homework Hack 1: Odd or Even Checker\n",
    "def check_odd_even(number):\n",
    "    # Check if the number is divisible by 2\n",
    "    if number % 2 == 0:\n",
    "        return \"Even\"\n",
    "    else:\n",
    "        return \"Odd\"\n",
    "\n",
    "# Test the function with different numbers\n",
    "print(check_odd_even(4))   # Output: Even\n",
    "print(check_odd_even(7))   # Output: Odd\n",
    "print(check_odd_even(0))   # Output: Even\n",
    "print(check_odd_even(15))  # Output: Odd\n",
    "print(check_odd_even(22))  # Output: Even\n",
    "\n"
   ]
  },
  {
   "cell_type": "code",
   "execution_count": 7,
   "metadata": {},
   "outputs": [
    {
     "name": "stdout",
     "output_type": "stream",
     "text": [
      "Leap Year\n",
      "Not a Leap Year\n",
      "Leap Year\n",
      "Not a Leap Year\n"
     ]
    }
   ],
   "source": [
    "#Python Homework Hack 2: Leap Year Checker\n",
    "def is_leap_year(year):\n",
    "    # Check if the year is divisible by 4 but not by 100, or divisible by 400\n",
    "    if (year % 4 == 0 and year % 100 != 0) or (year % 400 == 0):\n",
    "        return \"Leap Year\"\n",
    "    else:\n",
    "        return \"Not a Leap Year\"\n",
    "\n",
    "# Test the function with different years\n",
    "print(is_leap_year(2020))  # Output: Leap Year\n",
    "print(is_leap_year(1900))  # Output: Not a Leap Year\n",
    "print(is_leap_year(2000))  # Output: Leap Year\n",
    "print(is_leap_year(2023))  # Output: Not a Leap Year\n"
   ]
  },
  {
   "cell_type": "code",
   "execution_count": 3,
   "metadata": {},
   "outputs": [
    {
     "name": "stdout",
     "output_type": "stream",
     "text": [
      "Cold\n",
      "Warm\n",
      "Hot\n",
      "Neither hot nor cold\n"
     ]
    }
   ],
   "source": [
    "#Python Homework Hack 3: Temperature Range Checker\n",
    "def temperature_range(temperature):\n",
    "    # Use if...elif...else to categorize the temperature\n",
    "    if temperature < 60:\n",
    "        return \"Cold\"\n",
    "    elif 60 <= temperature <= 80:\n",
    "        return \"Warm\"\n",
    "    elif temperature > 85:\n",
    "        return \"Hot\"\n",
    "    else:\n",
    "        return \"Neither hot nor cold\"  # Handles temperatures between 81°F and 85°F\n",
    "\n",
    "# Test the function with different temperature values\n",
    "print(temperature_range(50))  # Output: Cold\n",
    "print(temperature_range(70))  # Output: Warm\n",
    "print(temperature_range(90))  # Output: Hot\n",
    "print(temperature_range(83))  # Output: Neither hot nor cold\n"
   ]
  },
  {
   "cell_type": "code",
   "execution_count": 6,
   "metadata": {
    "vscode": {
     "languageId": "javascript"
    }
   },
   "outputs": [
    {
     "data": {
      "application/javascript": "// JS Homework Hack 1: Check Voting Age Eligibility\nfunction checkVotingEligibility(age) {\n    // Use an if statement to check if the age is 18 or older\n    if (age >= 18) {\n        return \"You are eligible to vote!\";\n    } else {\n        return \"You are not eligible to vote yet.\";\n    }\n}\n\n// Test the function with different age values\nconsole.log(checkVotingEligibility(20));  // Output: You are eligible to vote!\nconsole.log(checkVotingEligibility(16));  // Output: You are not eligible to vote yet.\n",
      "text/plain": [
       "<IPython.core.display.Javascript object>"
      ]
     },
     "metadata": {},
     "output_type": "display_data"
    }
   ],
   "source": [
    "%%js\n",
    "// JS Homework Hack 1: Check Voting Age Eligibility\n",
    "function checkVotingEligibility(age) {\n",
    "    // Use an if statement to check if the age is 18 or older\n",
    "    if (age >= 18) {\n",
    "        return \"You are eligible to vote!\";\n",
    "    } else {\n",
    "        return \"You are not eligible to vote yet.\";\n",
    "    }\n",
    "}\n",
    "\n",
    "// Test the function with different age values\n",
    "console.log(checkVotingEligibility(20));  // Output: You are eligible to vote!\n",
    "console.log(checkVotingEligibility(16));  // Output: You are not eligible to vote yet."
   ]
  },
  {
   "cell_type": "code",
   "execution_count": null,
   "metadata": {
    "vscode": {
     "languageId": "javascript"
    }
   },
   "outputs": [],
   "source": [
    "%% js\n",
    "// JS Homework Hack 2: Grade Calculator\n",
    "function getGrade(score) {\n",
    "    // Use if...else if...else statements to determine the letter grade\n",
    "    if (score >= 90) {\n",
    "        return \"Grade: A\";\n",
    "    } else if (score >= 80) {\n",
    "        return \"Grade: B\";\n",
    "    } else if (score >= 70) {\n",
    "        return \"Grade: C\";\n",
    "    } else {\n",
    "        return \"Grade: F\";\n",
    "    }\n",
    "}\n",
    "\n",
    "// Test the function with different scores\n",
    "console.log(getGrade(95));  // Output: Grade: A\n",
    "console.log(getGrade(85));  // Output: Grade: B\n",
    "console.log(getGrade(75));  // Output: Grade: C\n",
    "console.log(getGrade(65));  // Output: Grade: F\n"
   ]
  },
  {
   "cell_type": "code",
   "execution_count": null,
   "metadata": {
    "vscode": {
     "languageId": "javascript"
    }
   },
   "outputs": [],
   "source": [
    "%% js\n",
    "// JS Homework Hack 3: Temperature Converter\n",
    "function convertTemperature(value, scale) {\n",
    "    // Use if statements to check the scale\n",
    "    if (scale === \"C\") {\n",
    "        // Convert Celsius to Fahrenheit\n",
    "        let fahrenheit = (value * 9/5) + 32;\n",
    "        return fahrenheit + \"°F\";\n",
    "    } else if (scale === \"F\") {\n",
    "        // Convert Fahrenheit to Celsius\n",
    "        let celsius = (value - 32) * 5/9;\n",
    "        return celsius.toFixed(2) + \"°C\";  // Round to 2 decimal places\n",
    "    } else {\n",
    "        return \"Error: Invalid scale. Use 'C' for Celsius or 'F' for Fahrenheit.\";\n",
    "    }\n",
    "}\n",
    "\n",
    "// Test the function with different values and scales\n",
    "console.log(convertTemperature(25, \"C\"));  // Output: 77°F\n",
    "console.log(convertTemperature(77, \"F\"));  // Output: 25.00°C\n",
    "console.log(convertTemperature(100, \"C\")); // Output: 212°F\n",
    "console.log(convertTemperature(32, \"F\"));  // Output: 0.00°C\n",
    "console.log(convertTemperature(30, \"X\"));  // Output: Error: Invalid scale. Use 'C' for Celsius or 'F' for Fahrenheit.\n",
    "\n"
   ]
  }
 ],
 "metadata": {
  "kernelspec": {
   "display_name": "venv",
   "language": "python",
   "name": "python3"
  },
  "language_info": {
   "codemirror_mode": {
    "name": "ipython",
    "version": 3
   },
   "file_extension": ".py",
   "mimetype": "text/x-python",
   "name": "python",
   "nbconvert_exporter": "python",
   "pygments_lexer": "ipython3",
   "version": "3.12.3"
  }
 },
 "nbformat": 4,
 "nbformat_minor": 2
}
