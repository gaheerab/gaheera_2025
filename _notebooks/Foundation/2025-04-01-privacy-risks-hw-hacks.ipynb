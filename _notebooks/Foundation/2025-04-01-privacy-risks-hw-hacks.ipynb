{
  "cells": [
    {
      "cell_type": "raw",
      "metadata": {
        "vscode": {
          "languageId": "raw"
        }
      },
      "source": [
        "---\n",
        "layout: post\n",
        "title: Gaheera Babbar Privacy Risks from Data Collection HW Hacks\n",
        "description: Big Idea Privacy Risks from Data Collection HW Hacks\n",
        "categories: [Python]\n",
        "menu: nav/tools_setup.html\n",
        "toc: true\n",
        "comments: true\n",
        "---"
      ]
    },
    {
      "cell_type": "markdown",
      "metadata": {},
      "source": [
        "## Popcorn Hack 1\n",
        "### Identifying PII\n",
        "A fingerprint is considered PII\n",
        "\n",
        "## Pop Quiz: Multifactor Authorization\n",
        "### Which of the following is NOT an example of a multifactor authentication (MFA) factor?\n",
        "D. A username required to log in\n",
        "\n",
        "## Popcorn Hack 2: Encryption Quiz\n",
        "### Which of the following is an example of symmetric encryption?\n",
        "B. Finn and Gwen develop a system that maps each letter of the alphabet to a unique symbol using a secret key. Finn uses the key to write a message to Gwen where each letter is replaced with the corresponding symbol. Gwen uses the key to map each symbol back to the original letter.\n",
        "\n",
        "## Popcorn Hack 3: Password Security\n",
        "Symbols, numbers, uppercase and lowercase letters, and randomized words are elements that make up a good password. The password is also more secure because of its legnth as I made it 12 characters. A good password should be 10 characters or more. \n",
        "\n",
        "\n"
      ]
    }
  ],
  "metadata": {
    "colab": {
      "provenance": []
    },
    "kernelspec": {
      "display_name": "Python 3",
      "name": "python3"
    },
    "language_info": {
      "name": "python"
    }
  },
  "nbformat": 4,
  "nbformat_minor": 0
}
