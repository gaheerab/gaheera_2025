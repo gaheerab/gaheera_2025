{
 "cells": [
  {
   "cell_type": "markdown",
   "metadata": {},
   "source": [
    "- must use github pages theme\n",
    "- Jekyll file: top of frontmatter\n",
    "- Use layout \"bootstrap\"\n",
    "- do not use head and body to avoid non-responsive duplicate code\n",
    "- {{ content }} in both html and bootstrap\n",
    "- no CSS"
   ]
  }
 ],
 "metadata": {
  "language_info": {
   "name": "python"
  }
 },
 "nbformat": 4,
 "nbformat_minor": 2
}
