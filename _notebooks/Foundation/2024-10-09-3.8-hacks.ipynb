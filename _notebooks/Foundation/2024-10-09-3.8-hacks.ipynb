{
 "cells": [
  {
   "cell_type": "raw",
   "metadata": {
    "vscode": {
     "languageId": "raw"
    }
   },
   "source": [
    "---\n",
    "layout: post\n",
    "title: Gaheera Babbar P4 Popcorn Hacks 3.8\n",
    "description: 3.8 Lesson Popcorn and Homework Hacks\n",
    "categories: [Python]\n",
    "menu: nav/tools_setup.html\n",
    "toc: true\n",
    "comments: true\n",
    "---"
   ]
  },
  {
   "cell_type": "raw",
   "metadata": {
    "vscode": {
     "languageId": "raw"
    }
   },
   "source": []
  },
  {
   "cell_type": "code",
   "execution_count": 1,
   "metadata": {},
   "outputs": [
    {
     "name": "stdout",
     "output_type": "stream",
     "text": [
      "hello\n",
      "hello\n",
      "hello\n",
      "hello\n",
      "hello\n"
     ]
    }
   ],
   "source": [
    "#Python Popcorn Hack 1: While loop repeating \"hello\" 5 times\n",
    "# Counter variable\n",
    "count = 0\n",
    "\n",
    "# Start the while loop\n",
    "while count < 5:\n",
    "    print(\"hello\")\n",
    "    count += 1  # Increment the counter\n",
    "\n",
    "\n"
   ]
  },
  {
   "cell_type": "code",
   "execution_count": null,
   "metadata": {
    "vscode": {
     "languageId": "javascript"
    }
   },
   "outputs": [],
   "source": [
    "%%js\n",
    "//JS Popcorn Hack 1: While loop repeating \"hello\" 5 times\n",
    "// Initialize a counter variable\n",
    "let count = 0;\n",
    "\n",
    "// Start the while loop\n",
    "while (count < 5) {\n",
    "    console.log(\"hello\");\n",
    "    count++;  // Increment the counter\n",
    "}\n"
   ]
  },
  {
   "cell_type": "code",
   "execution_count": 2,
   "metadata": {},
   "outputs": [
    {
     "name": "stdout",
     "output_type": "stream",
     "text": [
      "Gaheera\n",
      " \n",
      " \n",
      "Babbar\n",
      "Babbar\n",
      "Babbar\n",
      "Gaheera\n",
      " \n",
      " \n",
      "Babbar\n",
      "Babbar\n",
      "Babbar\n",
      "Gaheera\n",
      " \n",
      " \n",
      "Babbar\n",
      "Babbar\n",
      "Babbar\n",
      "Gaheera\n",
      " \n",
      " \n",
      "Babbar\n",
      "Babbar\n",
      "Babbar\n"
     ]
    }
   ],
   "source": [
    "#Python Popcorn Hack 2: Name Repeat\n",
    "# Initialize a counter for the outer loop\n",
    "outer_count = 0\n",
    "\n",
    "# Start the outer loop to repeat the whole sequence 4 times\n",
    "while outer_count < 4:\n",
    "    # Print first name once\n",
    "    first_name_count = 0\n",
    "    while first_name_count < 1:\n",
    "        print(\"Gaheera\")\n",
    "        first_name_count += 1\n",
    "\n",
    "    # Print middle name twice\n",
    "    middle_name_count = 0\n",
    "    while middle_name_count < 2:\n",
    "        print(\" \")\n",
    "        middle_name_count += 1\n",
    "\n",
    "    # Print last name three times\n",
    "    last_name_count = 0\n",
    "    while last_name_count < 3:\n",
    "        print(\"Babbar\")\n",
    "        last_name_count += 1\n",
    "\n",
    "    # Increment the outer loop counter\n",
    "    outer_count += 1\n"
   ]
  },
  {
   "cell_type": "code",
   "execution_count": null,
   "metadata": {},
   "outputs": [],
   "source": [
    "#Python Popcorn Hack 3: Iterates and Print out Letters of my Name\n",
    "for letter in \"Gaheera\":\n",
    "    print(letter)"
   ]
  },
  {
   "cell_type": "code",
   "execution_count": 3,
   "metadata": {
    "vscode": {
     "languageId": "javascript"
    }
   },
   "outputs": [
    {
     "data": {
      "application/javascript": "// JS Popcorn Hack 2: Iterates and Print out Letters of my Name\nfor (let letter of \"Gaheera\") {\n    console.log(letter);\n}\n\n",
      "text/plain": [
       "<IPython.core.display.Javascript object>"
      ]
     },
     "metadata": {},
     "output_type": "display_data"
    }
   ],
   "source": [
    "%%js\n",
    "// JS Popcorn Hack 3: Iterates and Print out Letters of my Name\n",
    "for (let letter of \"Gaheera\") {\n",
    "    console.log(letter);\n",
    "}\n",
    "\n"
   ]
  },
  {
   "cell_type": "code",
   "execution_count": 7,
   "metadata": {},
   "outputs": [
    {
     "name": "stdout",
     "output_type": "stream",
     "text": [
      "Student 1 received a grade of A. Well done!\n",
      "Student 2 received a grade of B+. Well done!\n",
      "Student 3 received a grade of A-. Well done!\n",
      "Student 4 received a grade of B. Well done!\n",
      "Student 5 received a grade of A+. Well done!\n"
     ]
    }
   ],
   "source": [
    "#Popcorn Hack 4: Create a dictionary and create a for loop that runs through each key and value of the dictionary For each iteration, print the key and value as well as a message of your choice\n",
    "# Create a dictionary\n",
    "student_grades = {\n",
    "    \"Student 1\": \"A\",\n",
    "    \"Student 2\": \"B+\",\n",
    "    \"Student 3\": \"A-\",\n",
    "    \"Student 4\": \"B\",\n",
    "    \"Student 5\": \"A+\"\n",
    "}\n",
    "\n",
    "# Loop through each key-value pair in the dictionary\n",
    "for student, grade in student_grades.items():\n",
    "    # Print the key (student), value (grade), and a custom message\n",
    "    print(f\"{student} received a grade of {grade}. Well done!\")\n"
   ]
  },
  {
   "cell_type": "code",
   "execution_count": null,
   "metadata": {},
   "outputs": [
    {
     "name": "stdout",
     "output_type": "stream",
     "text": [
      "Incorrect password, please try again.\n",
      "Incorrect password, please try again.\n",
      "Incorrect password, please try again.\n",
      "Incorrect password, please try again.\n",
      "Incorrect password, please try again.\n",
      "Incorrect password, please try again.\n",
      "Incorrect password, please try again.\n",
      "Incorrect password, please try again.\n",
      "Incorrect password, please try again.\n",
      "Incorrect password, please try again.\n",
      "Incorrect password, please try again.\n",
      "Incorrect password, please try again.\n",
      "Incorrect password, please try again.\n",
      "Incorrect password, please try again.\n",
      "Incorrect password, please try again.\n",
      "Incorrect password, please try again.\n",
      "Incorrect password, please try again.\n",
      "Incorrect password, please try again.\n",
      "Incorrect password, please try again.\n",
      "Incorrect password, please try again.\n",
      "Incorrect password, please try again.\n",
      "Incorrect password, please try again.\n",
      "Incorrect password, please try again.\n",
      "Incorrect password, please try again.\n",
      "Incorrect password, please try again.\n",
      "Incorrect password, please try again.\n",
      "Incorrect password, please try again.\n",
      "Incorrect password, please try again.\n",
      "Incorrect password, please try again.\n",
      "Incorrect password, please try again.\n",
      "Incorrect password, please try again.\n",
      "Incorrect password, please try again.\n",
      "Incorrect password, please try again.\n",
      "Incorrect password, please try again.\n",
      "Incorrect password, please try again.\n",
      "Incorrect password, please try again.\n",
      "Incorrect password, please try again.\n",
      "Incorrect password, please try again.\n",
      "Incorrect password, please try again.\n",
      "Incorrect password, please try again.\n",
      "Incorrect password, please try again.\n",
      "Incorrect password, please try again.\n",
      "Incorrect password, please try again.\n",
      "Incorrect password, please try again.\n",
      "Incorrect password, please try again.\n",
      "Incorrect password, please try again.\n",
      "Incorrect password, please try again.\n",
      "Incorrect password, please try again.\n",
      "Incorrect password, please try again.\n",
      "Incorrect password, please try again.\n",
      "Incorrect password, please try again.\n",
      "Incorrect password, please try again.\n",
      "Incorrect password, please try again.\n",
      "Incorrect password, please try again.\n",
      "Incorrect password, please try again.\n",
      "Incorrect password, please try again.\n",
      "Incorrect password, please try again.\n",
      "Incorrect password, please try again.\n",
      "Incorrect password, please try again.\n",
      "Incorrect password, please try again.\n",
      "Incorrect password, please try again.\n",
      "Incorrect password, please try again.\n",
      "Incorrect password, please try again.\n",
      "Incorrect password, please try again.\n",
      "Incorrect password, please try again.\n",
      "Incorrect password, please try again.\n",
      "Incorrect password, please try again.\n",
      "Incorrect password, please try again.\n",
      "Incorrect password, please try again.\n",
      "Incorrect password, please try again.\n",
      "Incorrect password, please try again.\n",
      "Incorrect password, please try again.\n",
      "Incorrect password, please try again.\n",
      "Incorrect password, please try again.\n",
      "Incorrect password, please try again.\n",
      "Incorrect password, please try again.\n",
      "Incorrect password, please try again.\n",
      "Incorrect password, please try again.\n",
      "Incorrect password, please try again.\n",
      "Incorrect password, please try again.\n",
      "Incorrect password, please try again.\n",
      "Incorrect password, please try again.\n",
      "Incorrect password, please try again.\n",
      "Incorrect password, please try again.\n",
      "Incorrect password, please try again.\n",
      "Incorrect password, please try again.\n",
      "Incorrect password, please try again.\n",
      "Incorrect password, please try again.\n",
      "Incorrect password, please try again.\n",
      "Incorrect password, please try again.\n",
      "Incorrect password, please try again.\n",
      "Incorrect password, please try again.\n",
      "Incorrect password, please try again.\n",
      "Incorrect password, please try again.\n",
      "Incorrect password, please try again.\n",
      "Incorrect password, please try again.\n",
      "Incorrect password, please try again.\n",
      "Incorrect password, please try again.\n",
      "Incorrect password, please try again.\n",
      "Incorrect password, please try again.\n",
      "Incorrect password, please try again.\n",
      "Incorrect password, please try again.\n",
      "Incorrect password, please try again.\n",
      "Incorrect password, please try again.\n",
      "Incorrect password, please try again.\n",
      "Incorrect password, please try again.\n",
      "Incorrect password, please try again.\n"
     ]
    }
   ],
   "source": [
    "# Python Hack 1: Password Check\n",
    "# Set the correct password\n",
    "correct_password = \"pythonhack\"\n",
    "\n",
    "# Initialize a variable to control the loop\n",
    "password_is_correct = False\n",
    "\n",
    "# Start the while loop\n",
    "while not password_is_correct:\n",
    "    # Ask the user to input the password\n",
    "    user_input = input(\"Please enter the password: \")\n",
    "    \n",
    "    # Check if the password is correct\n",
    "    if user_input == correct_password:\n",
    "        print(\"The password is correct!\")\n",
    "        password_is_correct = True  # Break out of the loop\n",
    "    else:\n",
    "        print(\"Incorrect password, please try again.\")\n",
    "\n"
   ]
  },
  {
   "cell_type": "code",
   "execution_count": null,
   "metadata": {},
   "outputs": [],
   "source": [
    "#Hack 2: Name\n",
    "# Ask the user for their name\n",
    "user_name = input(\"Please enter your name: \")\n",
    "\n",
    "# Iterate through each letter in the name\n",
    "for letter in user_name:\n",
    "    print(letter)\n"
   ]
  },
  {
   "cell_type": "code",
   "execution_count": null,
   "metadata": {},
   "outputs": [],
   "source": [
    "#Hack 3: Fruits\n",
    "# Define a list of fruits\n",
    "fruits = [\"Apple\", \"Banana\", \"Orange\", \"Mango\", \"Grapes\", \"Pineapple\", \"Strawberry\"]\n",
    "\n",
    "# Loop through the list and print each fruit\n",
    "for fruit in fruits:\n",
    "    print(fruit)\n"
   ]
  }
 ],
 "metadata": {
  "kernelspec": {
   "display_name": "venv",
   "language": "python",
   "name": "python3"
  },
  "language_info": {
   "codemirror_mode": {
    "name": "ipython",
    "version": 3
   },
   "file_extension": ".py",
   "mimetype": "text/x-python",
   "name": "python",
   "nbconvert_exporter": "python",
   "pygments_lexer": "ipython3",
   "version": "3.12.3"
  }
 },
 "nbformat": 4,
 "nbformat_minor": 2
}
