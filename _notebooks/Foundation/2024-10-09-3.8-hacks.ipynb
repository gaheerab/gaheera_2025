{
 "cells": [
  {
   "cell_type": "raw",
   "metadata": {
    "vscode": {
     "languageId": "raw"
    }
   },
   "source": [
    "---\n",
    "layout: post\n",
    "title: Gaheera Babbar P4 Popcorn Hacks 3.8\n",
    "description: 3.8 Lesson Popcorn and Homework Hacks\n",
    "categories: [Python]\n",
    "menu: nav/tools_setup.html\n",
    "toc: true\n",
    "comments: true\n",
    "---"
   ]
  },
  {
   "cell_type": "code",
   "execution_count": 1,
   "metadata": {},
   "outputs": [
    {
     "name": "stdout",
     "output_type": "stream",
     "text": [
      "It's a cold day\n"
     ]
    }
   ],
   "source": [
    "#Popcorn Hack 1: While loop repeating \"hello\" 5 times\n",
    "\n"
   ]
  },
  {
   "cell_type": "code",
   "execution_count": null,
   "metadata": {},
   "outputs": [],
   "source": [
    "#Python Conditionals Bonus Popcorn Hack 1: How would you modify the code to include a message for a successful login attempt? What additional condition would you need to implement this?\n",
    "# Step 1: Create a variable called is_logged_in\n",
    "is_logged_in = False  # You can change this to True to test the other condition\n",
    "\n",
    "# Step 2: Create a variable to represent the success of the login attempt\n",
    "login_success = True  # Change this to False to test unsuccessful login\n",
    "\n",
    "# Step 3: Check if the user is logged in\n",
    "if is_logged_in:\n",
    "    print(\"Welcome back!\")\n",
    "# Step 4: Check if the login attempt was successful\n",
    "elif login_success:\n",
    "    print(\"Login successful! You are now logged in.\")\n",
    "else:\n",
    "    # Step 5: Otherwise, prompt the user to log in\n",
    "    print(\"Please log in.\")\n"
   ]
  },
  {
   "cell_type": "code",
   "execution_count": null,
   "metadata": {},
   "outputs": [],
   "source": [
    "#Python Conditionals Bonus Popcorn Hack 2:"
   ]
  },
  {
   "cell_type": "code",
   "execution_count": null,
   "metadata": {
    "vscode": {
     "languageId": "javascript"
    }
   },
   "outputs": [],
   "source": [
    "%%js\n",
    "// JS Conditionals Popcorn Hack 1: Message for scores below 60\n",
    "// I would add an else statement\n",
    "let score = 85;\n",
    "\n",
    "if (score >= 60) {\n",
    "    console.log(\"You passed!\");\n",
    "} else {\n",
    "    console.log(\"You failed. Better luck next time!\");\n",
    "}\n",
    "\n",
    "\n"
   ]
  },
  {
   "cell_type": "code",
   "execution_count": null,
   "metadata": {
    "vscode": {
     "languageId": "javascript"
    }
   },
   "outputs": [],
   "source": [
    "%%js\n",
    "// JS Conditionals Bonus Popcorn Hack 1: Message for score of exactly 50\n",
    "// I would add an else if statement\n",
    "let score = 50;\n",
    "\n",
    "if (score > 60) {\n",
    "    console.log(\"You passed!\");\n",
    "} else if (score === 50) {\n",
    "    console.log(\"You scored exactly 50. Keep trying!\");\n",
    "} else {\n",
    "    console.log(\"You failed!\");\n",
    "}\n"
   ]
  },
  {
   "cell_type": "code",
   "execution_count": 11,
   "metadata": {
    "vscode": {
     "languageId": "javascript"
    }
   },
   "outputs": [
    {
     "data": {
      "application/javascript": "// JS Popocorn Hack 3: Even or Odd?\n// Function to determine if a number is even or odd\nfunction checkEvenOrOdd() {\n    // Prompt the user to input a number\n    let number = parseInt(prompt(\"Enter a number:\"));\n\n    // Check if the input is a valid number\n    if (isNaN(number)) {\n        alert(\"Please enter a valid number.\");\n        return;\n    }\n\n    // Use logical operator to check if the number is even or odd\n    if (number % 2 === 0) {\n        alert(number + \" is an even number.\");\n    } else {\n        alert(number + \" is an odd number.\");\n    }\n}\n\n// Call the function to check if the number is even or odd\ncheckEvenOrOdd();\n",
      "text/plain": [
       "<IPython.core.display.Javascript object>"
      ]
     },
     "metadata": {},
     "output_type": "display_data"
    }
   ],
   "source": [
    "%%js\n",
    "// JS Conditionals Bonus Popocorn Hack 2: Message for scores between 60 and 69\n",
    "if (score >= 90) {\n",
    "    console.log(\"Grade: A\");\n",
    "} else if (score >= 80) {\n",
    "    console.log(\"Grade: B\");\n",
    "} else if (score >= 70) {\n",
    "    console.log(\"Grade: C\");\n",
    "} else if (score >= 60) {\n",
    "    console.log(\"Grade: D\");  // Added for scores between 60 and 69\n",
    "} else {\n",
    "    console.log(\"Grade: F\");\n",
    "}\n"
   ]
  },
  {
   "cell_type": "code",
   "execution_count": null,
   "metadata": {},
   "outputs": [],
   "source": [
    "#Python Popcorn Hack 1: Odd or Even Checker\n",
    "\n"
   ]
  },
  {
   "cell_type": "code",
   "execution_count": null,
   "metadata": {},
   "outputs": [],
   "source": [
    "#Python Popcorn Hack 1: Odd or Even Checker"
   ]
  },
  {
   "cell_type": "code",
   "execution_count": null,
   "metadata": {},
   "outputs": [],
   "source": [
    "#Python Popcorn Hack 1: Odd or Even Checker"
   ]
  },
  {
   "cell_type": "code",
   "execution_count": null,
   "metadata": {
    "vscode": {
     "languageId": "javascript"
    }
   },
   "outputs": [],
   "source": [
    "%%js\n",
    "// JS Homework 1: Password Check\n",
    "function isValidPassword(password) {\n",
    "    // Check password criteria\n",
    "    const hasUppercase = /[A-Z]/.test(password);\n",
    "    const hasLowercase = /[a-z]/.test(password);\n",
    "    const hasNumber = /\\d/.test(password);\n",
    "    const hasSpecialChar = /[!@#$%^&*(),.?\":{}|<>]/.test(password);\n",
    "    const hasNoSpaces = !/\\s/.test(password);\n",
    "    const isLongEnough = password.length >= 10;\n",
    "\n",
    "    // Check for more than 3 consecutive identical characters\n",
    "    const hasConsecutiveChars = /(.)\\1\\1\\1/.test(password); // 4 or more of the same character in a row\n",
    "\n",
    "    // Using De Morgan's Law for the combined condition:\n",
    "    // To be valid, all the following must be true:\n",
    "    // NOT (hasUppercase OR hasLowercase OR hasNumber OR hasSpecialChar OR hasNoSpaces OR !isLongEnough OR hasConsecutiveChars)\n",
    "    // Can be simplified to:\n",
    "    // hasUppercase AND hasLowercase AND hasNumber AND hasSpecialChar AND hasNoSpaces AND isLongEnough AND !hasConsecutiveChars\n",
    "    const isValid = hasUppercase && hasLowercase && hasNumber && hasSpecialChar && hasNoSpaces && isLongEnough && !hasConsecutiveChars;\n",
    "\n",
    "    return isValid;\n",
    "}\n",
    "\n",
    "// Function to create a password\n",
    "function createPassword() {\n",
    "    const password = prompt(\"Enter your password:\");\n",
    "\n",
    "    if (isValidPassword(password)) {\n",
    "        console.log(\"Your password is valid!\");\n",
    "    } else {\n",
    "        console.log(\"Your password is invalid. Please ensure it meets the following criteria:\");\n",
    "        console.log(\"1. At least 10 characters long.\");\n",
    "        console.log(\"2. Contains both uppercase and lowercase letters.\");\n",
    "        console.log(\"3. Contains at least one number.\");\n",
    "        console.log(\"4. Does not contain any spaces.\");\n",
    "        console.log(\"5. Contains at least 1 special character.\");\n",
    "        console.log(\"6. Contains no more than 3 of the same letter in a row.\");\n",
    "    }\n",
    "}\n",
    "\n",
    "// Start the password creation process\n",
    "createPassword();\n"
   ]
  },
  {
   "cell_type": "code",
   "execution_count": null,
   "metadata": {
    "vscode": {
     "languageId": "javascript"
    }
   },
   "outputs": [],
   "source": [
    "%% js\n",
    "// JS Extra Practice: Old enough to vote?\n",
    "function canVote(age) {\n",
    "    return age >= 18;\n",
    "}\n",
    "\n",
    "// Test the function\n",
    "console.log(canVote(20));  // true\n",
    "console.log(canVote(16));  // false\n"
   ]
  },
  {
   "cell_type": "code",
   "execution_count": null,
   "metadata": {
    "vscode": {
     "languageId": "javascript"
    }
   },
   "outputs": [],
   "source": [
    "%% js\n",
    "// JS Extra Practice: Uppercase?\n",
    "function isFirstCharUppercase(str) {\n",
    "    return str[0] === str[0].toUpperCase();\n",
    "}\n",
    "\n",
    "// Test the function\n",
    "console.log(isFirstCharUppercase(\"Hello\"));   // true\n",
    "console.log(isFirstCharUppercase(\"world\"));   // false\n"
   ]
  }
 ],
 "metadata": {
  "kernelspec": {
   "display_name": "venv",
   "language": "python",
   "name": "python3"
  },
  "language_info": {
   "codemirror_mode": {
    "name": "ipython",
    "version": 3
   },
   "file_extension": ".py",
   "mimetype": "text/x-python",
   "name": "python",
   "nbconvert_exporter": "python",
   "pygments_lexer": "ipython3",
   "version": "3.12.3"
  }
 },
 "nbformat": 4,
 "nbformat_minor": 2
}
