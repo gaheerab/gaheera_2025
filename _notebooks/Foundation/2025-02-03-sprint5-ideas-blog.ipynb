{
 "cells": [
  {
   "cell_type": "raw",
   "metadata": {
    "vscode": {
     "languageId": "raw"
    }
   },
   "source": [
    "---\n",
    "layout: post\n",
    "title: Sprint 5 Big Ideas 4 Video Blog\n",
    "description: College Board Video Notes\n",
    "categories: [Python]\n",
    "menu: nav/tools_setup.html\n",
    "toc: true\n",
    "comments: true\n",
    "---"
   ]
  },
  {
   "cell_type": "markdown",
   "metadata": {},
   "source": [
    "## Gaheera Babbar College Board Video Notes Big Idea 4"
   ]
  },
  {
   "cell_type": "markdown",
   "metadata": {},
   "source": [
    "### 4.1: The Internet\n",
    "- Computing Device: physical artifact that can run a program (computers, tablets, servers, routers, smart sensors)\n",
    "- Computing System: group of computing devices and programs working together for a common purpose\n",
    "- computer network: type of computing system\n",
    "- Routing: the process of finding a path from sender to reciever\n",
    "- Bandwith: maximum amount of data that can be sent in a fixed amount of time, usually measured in bits/second\n",
    "- Scalability of a system: Capacity for the system to change in size to meet new demands\n",
    "- Packets contain a chunk of data and metadata used for using the packet between the origin and the destination on the internet\n",
    "- IP, TCP, and UDP are common protocols used on the Internet\n",
    "\n",
    "### 4.2: Fault Tolerance\n",
    "- The internet is designed to be fault-tolerant with abstractions for routing and transmitting data\n",
    "- Redundancy: the inclusion of exrta components tha  can be used to mitigate failing system if other component fail\n",
    "- Having more than one path between any two connected devices can accomplish network redundancy\n",
    "- Redundancy of routing options between two points increases reliability of the Internet and helps it scale to more devices and people\n",
    "\n",
    "### 4.3: Parallel and Distributed Computing\n",
    "- Parallel computing consists of a parallel portion and a sequential portion\n",
    "solutions that use parallel computing can scale more effectively\n",
    "- distributed computing allows large problems to be solved quicker\n",
    "- when increasing the use of parallel computing in a solutoin, the efficiency of the solution is still limited by the sequential portion\n",
    "\n",
    "\n",
    "\n"
   ]
  }
 ],
 "metadata": {
  "kernelspec": {
   "display_name": "venv",
   "language": "python",
   "name": "python3"
  },
  "language_info": {
   "codemirror_mode": {
    "name": "ipython",
    "version": 3
   },
   "file_extension": ".py",
   "mimetype": "text/x-python",
   "name": "python",
   "nbconvert_exporter": "python",
   "pygments_lexer": "ipython3",
   "version": "3.12.3"
  }
 },
 "nbformat": 4,
 "nbformat_minor": 2
}
