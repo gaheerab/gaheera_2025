{
  "cells": [
    {
      "cell_type": "raw",
      "metadata": {
        "vscode": {
          "languageId": "raw"
        }
      },
      "source": [
        "---\n",
        "layout: post\n",
        "title: Gaheera Babbar Legal and Ethical HW Hacks\n",
        "description: Big Idea 5 Legal and Ethical Team Teach HW Hacks\n",
        "categories: [Python]\n",
        "menu: nav/tools_setup.html\n",
        "toc: true\n",
        "comments: true\n",
        "---"
      ]
    },
    {
      "cell_type": "markdown",
      "metadata": {},
      "source": [
        "## Vocab\n",
        "- AI Art: uses algorithms and machine learning techniques to general visual or auditory artworks that mimic human creativity\n",
        "- Creative Commons: Lecensing system that allows creators to share work with specific permissions to others\n",
        "- Digitial divide is the gap between communities who do and don't have access to digitial technologies\n"
      ]
    },
    {
      "cell_type": "markdown",
      "metadata": {},
      "source": [
        "## Popcorn Hack 1\n",
        "### What are some ways to protect intellectual property? Write down what you can remember in a notebook.\n",
        "You can protect intellectual property by taking actions to prevent intellectal property rights violations. THis includes using watermarks, defining terms of use through license agreements, and regularly monitoring for unauthorized use. \n",
        "\n",
        "## MC 1\n",
        "### B. Adding watermarks and using digital rights maangeement tools is the best way to help a content creator prevent intelelctual property rights violations when sharing digital content\n",
        "\n",
        "## Popcorn Hack 2\n",
        "### Define an MIT License and describe what one for your own Repo would look like\n",
        "The MIT license is an open-source softwarre that allows users to copt, use, mmodify, merge, publish, distribute, and sell copies of the softeware. An MIT license for my own repo would allow users to copy, paste, distribute, and sell copies of my blogs, but not allow them to modify and merge them. \n",
        "\n",
        "## Popcorn Hack 3\n",
        "### Degine a Creative Common Liense\n",
        "### What are exceptions to the Copyright law\n",
        "\n",
        "## Popcorn Hack 5\n",
        "### Name as many ways as you can remember to prevent copyright infringement\n",
        "- check copyright license on online content\n",
        "- cite the sources that you use\n",
        "- find creative commno licesenses\n",
        "- ask for permission before using content if unsure\n",
        "\n"
      ]
    }
  ],
  "metadata": {
    "colab": {
      "provenance": []
    },
    "kernelspec": {
      "display_name": "Python 3",
      "name": "python3"
    },
    "language_info": {
      "name": "python"
    }
  },
  "nbformat": 4,
  "nbformat_minor": 0
}
