{
  "cells": [
    {
      "cell_type": "raw",
      "metadata": {
        "vscode": {
          "languageId": "raw"
        }
      },
      "source": [
        "---\n",
        "layout: post\n",
        "title: Gaheera Babbar Legal and Ethical HW Hacks\n",
        "description: Big Idea 5 Legal and Ethical Team Teach HW Hacks\n",
        "categories: [Python]\n",
        "menu: nav/tools_setup.html\n",
        "toc: true\n",
        "comments: true\n",
        "---"
      ]
    },
    {
      "cell_type": "markdown",
      "metadata": {},
      "source": [
        "## Vocab\n",
        "- AI Art: uses algorithms and machine learning techniques to general visual or auditory artworks that mimic human creativity\n",
        "- Creative Commons: Lecensing system that allows creators to share work with specific permissions to others\n",
        "- Digitial divide is the gap between communities who do and don't have access to digitial technologies\n"
      ]
    },
    {
      "cell_type": "markdown",
      "metadata": {},
      "source": [
        "## Popcorn Hack 1\n",
        "### What are some ways to protect intellectual property? Write down what you can remember in a notebook.\n",
        "You can protect intellectual property by taking actions to prevent intellectal property rights violations. THis includes using watermarks, defining terms of use through license agreements, and regularly monitoring for unauthorized use. \n",
        "\n",
        "## MC 1\n",
        "### B. Adding watermarks and using digital rights maangeement tools is the best way to help a content creator prevent intelelctual property rights violations when sharing digital content\n",
        "\n",
        "## Popcorn Hack 2\n",
        "### Define an MIT License and describe what one for your own Repo would look like\n",
        "The MIT license is an open-source softwarre that allows users to copt, use, mmodify, merge, publish, distribute, and sell copies of the softeware. An MIT license for my own repo would allow users to copy, paste, distribute, and sell copies of my blogs, but not allow them to modify and merge them. \n",
        "\n",
        "# Homework Hack: Designing a License for Personal Repo\n",
        "#### Task 1: Selected License: MIT License\n",
        "#### Task 2: Explanation\n",
        "I chose the MIT License for my personal AP CSP GitHub repository because it’s simple, permissive, and widely used. This license allows others to freely use, copy, modify, and share my content as long as they credit me, which supports collaboration and learning. Since the repository contains my blogs, class notes, assignments, and personal projects, I want others—especially fellow students—to benefit from and build upon my work without worrying about strict licensing rules. The MIT License ensures openness while still protecting my original authorship.\n",
        "\n",
        "## Popcorn Hack 3\n",
        "### Degine a Creative Common Liense\n",
        "### What are exceptions to the Copyright law\n",
        "\n",
        "## Popcorn Hack 5\n",
        "### Name as many ways as you can remember to prevent copyright infringement\n",
        "- check copyright license on online content\n",
        "- cite the sources that you use\n",
        "- find creative commno licesenses\n",
        "- ask for permission before using content if unsure\n",
        "\n"
      ]
    },
    {
      "cell_type": "code",
      "execution_count": null,
      "metadata": {
        "vscode": {
          "languageId": "sql"
        }
      },
      "outputs": [],
      "source": [
        "MIT License\n",
        "\n",
        "Copyright (c) 2025 Gaheera Babbar\n",
        "\n",
        "Permission is hereby granted, free of charge, to any person obtaining a copy\n",
        "of this software and associated documentation files (the \"Software\"), to deal\n",
        "in the Software without restriction, including without limitation the rights  \n",
        "to use, copy, modify, merge, publish, distribute, sublicense, and/or sell      \n",
        "copies of the Software, and to permit persons to whom the Software is          \n",
        "furnished to do so, subject to the following conditions:                       \n",
        "\n",
        "The above copyright notice and this permission notice shall be included in     \n",
        "all copies or substantial portions of the Software.                            \n",
        "\n",
        "THE SOFTWARE IS PROVIDED \"AS IS\", WITHOUT WARRANTY OF ANY KIND, EXPRESS OR     \n",
        "IMPLIED, INCLUDING BUT NOT LIMITED TO THE WARRANTIES OF MERCHANTABILITY,       \n",
        "FITNESS FOR A PARTICULAR PURPOSE AND NONINFRINGEMENT. IN NO EVENT SHALL THE    \n",
        "AUTHORS OR COPYRIGHT HOLDERS BE LIABLE FOR ANY CLAIM, DAMAGES OR OTHER         \n",
        "LIABILITY, WHETHER IN AN ACTION OF CONTRACT, TORT OR OTHERWISE, ARISING FROM,  \n",
        "OUT OF OR IN CONNECTION WITH THE SOFTWARE OR THE USE OR OTHER DEALINGS IN      \n",
        "THE SOFTWARE.\n"
      ]
    }
  ],
  "metadata": {
    "colab": {
      "provenance": []
    },
    "kernelspec": {
      "display_name": "Python 3",
      "name": "python3"
    },
    "language_info": {
      "name": "python"
    }
  },
  "nbformat": 4,
  "nbformat_minor": 0
}
