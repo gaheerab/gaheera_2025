{
 "cells": [
  {
   "cell_type": "raw",
   "metadata": {
    "vscode": {
     "languageId": "raw"
    }
   },
   "source": [
    "---\n",
    "layout: post\n",
    "title: Gaheera Babbar Beneficial and Harmful Effects of Computing Innovations Hacks\n",
    "description: Big Idea 5 Beneficial and Harmful Effects of Computing Team Teach Lesson Popcorn and Homework Hacks\n",
    "categories: [Python]\n",
    "menu: nav/tools_setup.html\n",
    "toc: true\n",
    "comments: true\n",
    "---"
   ]
  },
  {
   "cell_type": "markdown",
   "metadata": {},
   "source": [
    "## Gaheera Babbar P4 Popcorn Hacks 3.1"
   ]
  },
  {
   "cell_type": "markdown",
   "metadata": {},
   "source": [
    "# Popcorn Hack 1\n",
    "## How do technological innovations impact society in both positive and negative ways? Provide an example.\n",
    "Positive: Technology improves efficiency, communication, and access to resources. For example, smartphones have revolutionized the way people connect, access information, and conduct business. They provide instant communication, navigation, and entertainment, making daily life more convenient.\n",
    "Negative: Efficient ways for networking and digital communciaiton can also result in a loss of privacy and safety issues. For example, whiel drones have been revolutionary for monitoring and security, they may also be exploited to photograph unauthorized areas and invade private zones and projects.\n",
    "\n",
    "# Popcorn Hack 2\n",
    "## What is the meaning of the negative effects of technology and how can we use responsible programming to avoid and reduce these unintended harmful impacts.\n",
    "Negative effects of techology are the other challenges and harms that come from making technological advancements. It is our resonsibility as developers, engineers, and computer scientists to ensure that our advancements minimize these negative effects. Some ways to do this are using encryption to protect user data, minimizing resources, follow AI ethical guidlines, and create programs that only collect data that is necessary. \n",
    "\n",
    "# Popcorn Hack 3\n",
    "## Why is it important to understand the unintended consequences of technology, especially dopamine-driven technology?\n",
    "Dopamine driven technologay can often lead to an exessive dopamine, leading to addiction to social medias that are desigend to draw in users for extended amounts of time. This can lead to severe mental health issues indlucing anxiety and depression. It is important to enjoy the technology we have and use it for our benefit, but it is equally as important to balance it with our personal connection to the natural world, taking time away from social media to develop our own minds and skillsets to work on personal growth. "
   ]
  },
  {
   "cell_type": "markdown",
   "metadata": {},
   "source": [
    "# Homework Hack 1: Rethinking AI for New Uses\n",
    "## Your job is to think of a new way to use an AI invention.\n",
    "\n",
    "AI Innovation: Machine Translation\n",
    "\n",
    "Original Use: Originally designed to translate text and speech between different languages for communication and accessibility.\n",
    "\n",
    "New Use Case: Using AI translation to help preserve endangered languages by documenting, translating, and teaching them to new generations.\n",
    "\n",
    "Impact:\n",
    "Benefits:\n",
    "\n",
    "Helps prevent language extinction by making endangered languages more accessible.\n",
    "Aids in cultural preservation by allowing people to learn and use their native languages.\n",
    "Risks:\n",
    "\n",
    "AI may inaccurately translate complex linguistic structures, leading to loss of meaning.\n",
    "Could replace human linguists, reducing funding for traditional language preservation efforts.\n",
    "\n",
    "\n",
    "# Homework Hack 2: Ethical AI Coding Challenge\n",
    "## Task: AI can cause problems if not designed well. Your job is to find a problem AI has caused and think of ways to fix it.\n",
    "Problem: Bias in facial recognition technology.\n",
    "\n",
    "Risk: Facial recognition AI has been shown to have higher error rates for people of certain ethnicities, leading to misidentifications in security, law enforcement, and hiring. This can result in wrongful arrests, discrimination, and denial of opportunities.\n",
    "\n",
    "Solution 1: Use diverse and representative training data to reduce bias and improve accuracy across all demographic groups.\n",
    "\n",
    "Solution 2: Require human oversight in high-stakes decisions, ensuring AI predictions are reviewed before being used in legal or hiring processes.\n",
    "\n",
    "Reflection: Ethical AI development is essential to prevent discrimination and ensure fairness in society. If AI is trained or used improperly, it can reinforce existing biases and cause real harm. By prioritizing inclusivity and transparency, we can create AI that benefits everyone equally.\n",
    "\n",
    "# Homework Hack #3: AI & Unintended Consequences Research Task\n",
    "## Task: Many AI systems have unexpected effects on society. Your goal is to find and analyze a real-world AI example that led to unintended consequences.\n",
    "\n",
    "AI Example: Tesla’s Autopilot System\n",
    "\n",
    "What Happened: Tesla’s Autopilot was designed to assist drivers by handling tasks like steering, acceleration, and braking. However, some drivers misunderstood its capabilities, leading to accidents when they over-relied on the system or misused it by not paying attention to the road. In some cases, crashes occurred because the AI failed to detect obstacles or distinguish certain objects correctly.\n",
    "\n",
    "Response: Tesla introduced additional safety measures, such as driver monitoring systems that require users to keep their hands on the wheel. Governments and regulators also started investigating AI-assisted driving technologies to improve safety standards.\n",
    "\n",
    "Prevention: Developers should have provided clearer warnings about Autopilot’s limitations and required stricter enforcement of hands-on-the-wheel policies. AI systems in self-driving cars should also undergo more extensive real-world testing to improve object recognition and accident prevention."
   ]
  }
 ],
 "metadata": {
  "kernelspec": {
   "display_name": "venv",
   "language": "python",
   "name": "python3"
  },
  "language_info": {
   "codemirror_mode": {
    "name": "ipython",
    "version": 3
   },
   "file_extension": ".py",
   "mimetype": "text/x-python",
   "name": "python",
   "nbconvert_exporter": "python",
   "pygments_lexer": "ipython3",
   "version": "3.12.3"
  }
 },
 "nbformat": 4,
 "nbformat_minor": 2
}
