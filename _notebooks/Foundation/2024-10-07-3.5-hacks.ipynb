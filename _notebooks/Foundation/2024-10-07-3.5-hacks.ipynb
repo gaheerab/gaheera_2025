{
 "cells": [
  {
   "cell_type": "raw",
   "metadata": {
    "vscode": {
     "languageId": "raw"
    }
   },
   "source": [
    "---\n",
    "layout: post\n",
    "title: Gaheera Babbar P4 Popcorn Hacks 3.5\n",
    "description: 3.5 Lesson Popcorn and Homework Hacks\n",
    "categories: [Python]\n",
    "menu: nav/tools_setup.html\n",
    "toc: true\n",
    "comments: true\n",
    "---"
   ]
  },
  {
   "cell_type": "code",
   "execution_count": 5,
   "metadata": {},
   "outputs": [
    {
     "name": "stdout",
     "output_type": "stream",
     "text": [
      "The number -5.0 is negative.\n"
     ]
    }
   ],
   "source": [
    "#Python Popcorn Hack 1: Check Number: Evaluates if number is less than 0. Output: Logs whether the number is negative or non-negative.\n",
    "def check_number():\n",
    "    try:\n",
    "        # Prompt the user to input a number\n",
    "        num = float(input(\"Enter a number: \"))\n",
    "        \n",
    "        # Check if the number is less than 0\n",
    "        if num < 0:\n",
    "            print(f\"The number {num} is negative.\")\n",
    "        else:\n",
    "            print(f\"The number {num} is non-negative.\")\n",
    "    except ValueError:\n",
    "        print(\"Invalid input. Please enter a valid number.\")\n",
    "\n",
    "# Example usage\n",
    "check_number()\n"
   ]
  },
  {
   "cell_type": "code",
   "execution_count": 4,
   "metadata": {},
   "outputs": [
    {
     "name": "stdout",
     "output_type": "stream",
     "text": [
      "The student did not pass both subjects.\n"
     ]
    }
   ],
   "source": [
    "#Python Popcorn Hack 2: Check Scores: Confirms if both scores are at least 70. Output: Prints if the student passed both subjects.\n",
    "def check_scores():\n",
    "    try:\n",
    "        # Prompt the user to input two scores\n",
    "        score1 = float(input(\"Enter the score for the first subject: \"))\n",
    "        score2 = float(input(\"Enter the score for the second subject: \"))\n",
    "\n",
    "        # Check if both scores are at least 70\n",
    "        if score1 >= 70 and score2 >= 70:\n",
    "            print(\"The student passed both subjects.\")\n",
    "        else:\n",
    "            print(\"The student did not pass both subjects.\")\n",
    "    except ValueError:\n",
    "        print(\"Invalid input. Please enter valid scores.\")\n",
    "\n",
    "# Example usage\n",
    "check_scores()\n"
   ]
  },
  {
   "cell_type": "code",
   "execution_count": 6,
   "metadata": {},
   "outputs": [
    {
     "name": "stdout",
     "output_type": "stream",
     "text": [
      "The character 'b' is not a vowel or not a valid input.\n"
     ]
    }
   ],
   "source": [
    "#Popcorn Hack #3: Check Vowel: Checks if char is in the string ‘aeiou’. Output: Prints whether the character is a vowel or not.\n",
    "def check_vowel():\n",
    "    # Prompt the user to input a character\n",
    "    char = input(\"Enter a character: \").lower()  # Convert input to lowercase for consistency\n",
    "\n",
    "    # Check if the character is a vowel\n",
    "    if len(char) == 1 and char in 'aeiou':\n",
    "        print(f\"The character '{char}' is a vowel.\")\n",
    "    else:\n",
    "        print(f\"The character '{char}' is not a vowel or not a valid input.\")\n",
    "\n",
    "# Example usage\n",
    "check_vowel()\n",
    "\n"
   ]
  },
  {
   "cell_type": "code",
   "execution_count": 8,
   "metadata": {},
   "outputs": [
    {
     "name": "stdout",
     "output_type": "stream",
     "text": [
      "Cuisine         Common Food Form     Country of Origin   \n",
      "=======================================================\n",
      "Italian         Pizza                Italy               \n",
      "Chinese         Noodles              China               \n",
      "Mexican         Tacos                Mexico              \n",
      "Indian          Curry                India               \n",
      "Japanese        Sushi                Japan               \n",
      "American        Burger               United States       \n"
     ]
    }
   ],
   "source": [
    "#Python Homework 1: Create a Truth Table: Develop a truth table for a given logical expression.\n",
    "\n",
    "# Define the table data\n",
    "cuisine_data = [\n",
    "    {\"Cuisine\": \"Italian\", \"Common Food Form\": \"Pizza\", \"Country of Origin\": \"Italy\"},\n",
    "    {\"Cuisine\": \"Chinese\", \"Common Food Form\": \"Noodles\", \"Country of Origin\": \"China\"},\n",
    "    {\"Cuisine\": \"Mexican\", \"Common Food Form\": \"Tacos\", \"Country of Origin\": \"Mexico\"},\n",
    "    {\"Cuisine\": \"Indian\", \"Common Food Form\": \"Curry\", \"Country of Origin\": \"India\"},\n",
    "    {\"Cuisine\": \"Japanese\", \"Common Food Form\": \"Sushi\", \"Country of Origin\": \"Japan\"},\n",
    "    {\"Cuisine\": \"American\", \"Common Food Form\": \"Burger\", \"Country of Origin\": \"United States\"},\n",
    "]\n",
    "\n",
    "# Print the header\n",
    "print(f\"{'Cuisine':<15} {'Common Food Form':<20} {'Country of Origin':<20}\")\n",
    "print(\"=\"*55)\n",
    "\n",
    "# Print the table data\n",
    "for row in cuisine_data:\n",
    "    print(f\"{row['Cuisine']:<15} {row['Common Food Form']:<20} {row['Country of Origin']:<20}\")\n"
   ]
  },
  {
   "cell_type": "code",
   "execution_count": 9,
   "metadata": {},
   "outputs": [
    {
     "name": "stdout",
     "output_type": "stream",
     "text": [
      "Welcome to the High School Program Game!\n",
      "To win, you must be in either 11th or 12th grade.\n",
      "Congratulations! You win! You're in 11th or 12th grade.\n"
     ]
    }
   ],
   "source": [
    "#Python Homework 2: Design a Game Using De Morgan’s Law: Create a game that uses De Morgan’s Law to simplify yes or no functions.\n",
    "def ask_question(question):\n",
    "    while True:\n",
    "        response = input(question + \" (yes/no): \").lower()\n",
    "        if response in [\"yes\", \"no\"]:\n",
    "            return response == \"yes\"\n",
    "        else:\n",
    "            print(\"Please answer with 'yes' or 'no'.\")\n",
    "\n",
    "def play_game():\n",
    "    print(\"Welcome to the High School Program Game!\")\n",
    "    print(\"To win, you must be in either 11th or 12th grade.\")\n",
    "\n",
    "    # Ask the user about their grade\n",
    "    in_ninth_grade = ask_question(\"Are you in 9th grade?\")\n",
    "    in_tenth_grade = ask_question(\"Are you in 10th grade?\")\n",
    "    in_eleventh_grade = ask_question(\"Are you in 11th grade?\")\n",
    "    in_twelfth_grade = ask_question(\"Are you in 12th grade?\")\n",
    "    \n",
    "    # Using De Morgan's Law for the win condition:\n",
    "    # You win if you are in either 11th or 12th grade, but not in 9th or 10th.\n",
    "    # Condition: (not in_ninth_grade AND not in_tenth_grade) AND (in_eleventh_grade OR in_twelfth_grade)\n",
    "    \n",
    "    if (not in_ninth_grade and not in_tenth_grade) and (in_eleventh_grade or in_twelfth_grade):\n",
    "        print(\"Congratulations! You win! You're in 11th or 12th grade.\")\n",
    "    else:\n",
    "        print(\"Sorry, you do not qualify. You need to be in 11th or 12th grade.\")\n",
    "\n",
    "# Start the game\n",
    "play_game()\n"
   ]
  },
  {
   "cell_type": "code",
   "execution_count": null,
   "metadata": {},
   "outputs": [],
   "source": [
    "#Python Extra Practice: Checking Divisibility\n",
    "def is_divisible_by_3_and_5(num):\n",
    "    return num % 3 == 0 and num % 5 == 0\n",
    "\n",
    "# Test the function\n",
    "print(is_divisible_by_3_and_5(15))  # True\n",
    "print(is_divisible_by_3_and_5(10))  # False\n"
   ]
  },
  {
   "cell_type": "code",
   "execution_count": null,
   "metadata": {},
   "outputs": [],
   "source": [
    "#Python Extra Practice: Meal Surprise\n",
    "def meal_decision(mood, time_of_day):\n",
    "    if mood == \"happy\" and time_of_day == \"morning\":\n",
    "        return \"Treat yourself with some pancakes!\"\n",
    "    elif mood == \"tired\" and time_of_day == \"afternoon\":\n",
    "        return \"Time for a healthy lunch! Try a chicken salad!\"\n",
    "    elif mood == \"relaxed\" and time_of_day == \"evening\":\n",
    "        return \"Enjoy a nice dinner. Make your own pizza\"\n",
    "    else:\n",
    "        return \"How about a snack? Have some cheese and crackers\"\n",
    "\n",
    "# Test the function\n",
    "print(meal_decision(\"happy\", \"morning\"))    # Breakfast\n",
    "print(meal_decision(\"tired\", \"afternoon\"))  # Lunch\n",
    "print(meal_decision(\"relaxed\", \"evening\"))  # Dinner\n",
    "print(meal_decision(\"stressed\", \"night\"))   # Snack\n"
   ]
  },
  {
   "cell_type": "code",
   "execution_count": null,
   "metadata": {
    "vscode": {
     "languageId": "javascript"
    }
   },
   "outputs": [],
   "source": [
    "%%js\n",
    "// JS Popcorn Hack 1: Outfit suggestion based on weather\n",
    "// Function to suggest an outfit based on temperature\n",
    "function suggestOutfit() {\n",
    "    // Prompt the user to input the temperature\n",
    "    let temperature = parseFloat(prompt(\"Enter the temperature (in °C):\"));\n",
    "\n",
    "    // Check if the temperature input is a valid number\n",
    "    if (isNaN(temperature)) {\n",
    "        alert(\"Please enter a valid number for the temperature.\");\n",
    "        return;\n",
    "    }\n",
    "\n",
    "    // Outfit suggestions based on temperature ranges using relational and logical operators\n",
    "    if (temperature <= 40) {\n",
    "        alert(\"Wear a heavy winter coat, scarf, gloves, and boots.\");\n",
    "    } else if (temperature > 40 && temperature <= 60) {\n",
    "        alert(\"Wear a jacket, sweater, and long pants.\");\n",
    "    } else if (temperature > 60 && temperature <= 75) {\n",
    "        alert(\"Wear a light jacket or a sweater, with jeans or casual pants.\");\n",
    "    } else if (temperature > 75 && temperature <= 85) {\n",
    "        alert(\"Wear a t-shirt, shorts, and comfortable shoes.\");\n",
    "    } else if (temperature > 88) {\n",
    "        alert(\"Wear light clothing like tank tops, shorts, and flip-flops.\");\n",
    "    } else {\n",
    "        alert(\"Unable to provide outfit suggestions for this temperature.\");\n",
    "    }\n",
    "}\n",
    "\n",
    "// Call the function to suggest an outfit\n",
    "suggestOutfit();\n"
   ]
  },
  {
   "cell_type": "code",
   "execution_count": null,
   "metadata": {
    "vscode": {
     "languageId": "javascript"
    }
   },
   "outputs": [],
   "source": [
    "%%js\n",
    "// JS Popcorn Hack 2: Which number is bigger?\n",
    "// Function to find the largest number and sort the numbers from least to greatest\n",
    "function sortNumbersAndFindLargest(numbers) {\n",
    "    // Find the largest number using relational operators\n",
    "    let largest = numbers[0];\n",
    "    for (let i = 1; i < numbers.length; i++) {\n",
    "        if (numbers[i] > largest) {\n",
    "            largest = numbers[i];  // Update largest if current number is greater\n",
    "        }\n",
    "    }\n",
    "\n",
    "    // Sort numbers from least to greatest using the sort() function\n",
    "    // Relational operators are used within the comparison function of sort()\n",
    "    let sortedNumbers = numbers.sort((a, b) => a - b);\n",
    "\n",
    "    // Output the results\n",
    "    console.log(\"Sorted Numbers (Least to Greatest):\", sortedNumbers);\n",
    "    console.log(\"Largest Number:\", largest);\n",
    "}\n",
    "\n",
    "// Example list of numbers\n",
    "let numbers = [12, 45, 7, 20, 3, 99, 56, 32];\n",
    "\n",
    "// Call the function with the list of numbers\n",
    "sortNumbersAndFindLargest(numbers);\n"
   ]
  },
  {
   "cell_type": "code",
   "execution_count": 11,
   "metadata": {
    "vscode": {
     "languageId": "javascript"
    }
   },
   "outputs": [
    {
     "data": {
      "application/javascript": "// JS Popocorn Hack 3: Even or Odd?\n// Function to determine if a number is even or odd\nfunction checkEvenOrOdd() {\n    // Prompt the user to input a number\n    let number = parseInt(prompt(\"Enter a number:\"));\n\n    // Check if the input is a valid number\n    if (isNaN(number)) {\n        alert(\"Please enter a valid number.\");\n        return;\n    }\n\n    // Use logical operator to check if the number is even or odd\n    if (number % 2 === 0) {\n        alert(number + \" is an even number.\");\n    } else {\n        alert(number + \" is an odd number.\");\n    }\n}\n\n// Call the function to check if the number is even or odd\ncheckEvenOrOdd();\n",
      "text/plain": [
       "<IPython.core.display.Javascript object>"
      ]
     },
     "metadata": {},
     "output_type": "display_data"
    }
   ],
   "source": [
    "%%js\n",
    "// JS Popocorn Hack 3: Even or Odd?\n",
    "// Function to determine if a number is even or odd\n",
    "function checkEvenOrOdd() {\n",
    "    // Prompt the user to input a number\n",
    "    let number = parseInt(prompt(\"Enter a number:\"));\n",
    "\n",
    "    // Check if the input is a valid number\n",
    "    if (isNaN(number)) {\n",
    "        alert(\"Please enter a valid number.\");\n",
    "        return;\n",
    "    }\n",
    "\n",
    "    // Use logical operator to check if the number is even or odd\n",
    "    if (number % 2 === 0) {\n",
    "        alert(number + \" is an even number.\");\n",
    "    } else {\n",
    "        alert(number + \" is an odd number.\");\n",
    "    }\n",
    "}\n",
    "\n",
    "// Call the function to check if the number is even or odd\n",
    "checkEvenOrOdd();"
   ]
  },
  {
   "cell_type": "code",
   "execution_count": null,
   "metadata": {
    "vscode": {
     "languageId": "javascript"
    }
   },
   "outputs": [],
   "source": [
    "%% js\n",
    "// JS Homework 1: Password Check\n",
    "function isValidPassword(password) {\n",
    "    // Check password criteria\n",
    "    const hasUppercase = /[A-Z]/.test(password);\n",
    "    const hasLowercase = /[a-z]/.test(password);\n",
    "    const hasNumber = /\\d/.test(password);\n",
    "    const hasSpecialChar = /[!@#$%^&*(),.?\":{}|<>]/.test(password);\n",
    "    const hasNoSpaces = !/\\s/.test(password);\n",
    "    const isLongEnough = password.length >= 10;\n",
    "\n",
    "    // Check for more than 3 consecutive identical characters\n",
    "    const hasConsecutiveChars = /(.)\\1\\1\\1/.test(password); // 4 or more of the same character in a row\n",
    "\n",
    "    // Using De Morgan's Law for the combined condition:\n",
    "    // To be valid, all the following must be true:\n",
    "    // NOT (hasUppercase OR hasLowercase OR hasNumber OR hasSpecialChar OR hasNoSpaces OR !isLongEnough OR hasConsecutiveChars)\n",
    "    // Can be simplified to:\n",
    "    // hasUppercase AND hasLowercase AND hasNumber AND hasSpecialChar AND hasNoSpaces AND isLongEnough AND !hasConsecutiveChars\n",
    "    const isValid = hasUppercase && hasLowercase && hasNumber && hasSpecialChar && hasNoSpaces && isLongEnough && !hasConsecutiveChars;\n",
    "\n",
    "    return isValid;\n",
    "}\n",
    "\n",
    "// Function to create a password\n",
    "function createPassword() {\n",
    "    const password = prompt(\"Enter your password:\");\n",
    "\n",
    "    if (isValidPassword(password)) {\n",
    "        console.log(\"Your password is valid!\");\n",
    "    } else {\n",
    "        console.log(\"Your password is invalid. Please ensure it meets the following criteria:\");\n",
    "        console.log(\"1. At least 10 characters long.\");\n",
    "        console.log(\"2. Contains both uppercase and lowercase letters.\");\n",
    "        console.log(\"3. Contains at least one number.\");\n",
    "        console.log(\"4. Does not contain any spaces.\");\n",
    "        console.log(\"5. Contains at least 1 special character.\");\n",
    "        console.log(\"6. Contains no more than 3 of the same letter in a row.\");\n",
    "    }\n",
    "}\n",
    "\n",
    "// Start the password creation process\n",
    "createPassword();\n"
   ]
  },
  {
   "cell_type": "code",
   "execution_count": null,
   "metadata": {
    "vscode": {
     "languageId": "javascript"
    }
   },
   "outputs": [],
   "source": [
    "%% js\n",
    "// JS Homework 2: Personality Quiz\n",
    "// Personality quiz data\n",
    "const quizData = [\n",
    "    {\n",
    "        question: \"What do you enjoy doing in your free time?\",\n",
    "        options: [\"Reading\", \"Sports\", \"Cooking\", \"Watching Movies\"],\n",
    "        answer: null\n",
    "    },\n",
    "    {\n",
    "        question: \"How do you handle stress?\",\n",
    "        options: [\"Meditate\", \"Exercise\", \"Talk to friends\", \"Ignore it\"],\n",
    "        answer: null\n",
    "    },\n",
    "    {\n",
    "        question: \"Which environment do you prefer?\",\n",
    "        options: [\"Quiet and peaceful\", \"Busy and energetic\", \"Creative and artistic\", \"Structured and organized\"],\n",
    "        answer: null\n",
    "    },\n",
    "    {\n",
    "        question: \"What kind of music do you enjoy?\",\n",
    "        options: [\"Classical\", \"Pop\", \"Rock\", \"Jazz\"],\n",
    "        answer: null\n",
    "    },\n",
    "    {\n",
    "        question: \"How do you make decisions?\",\n",
    "        options: [\"Go with my gut\", \"Think it through\", \"Ask others for input\", \"Follow the rules\"],\n",
    "        answer: null\n",
    "    },\n",
    "    {\n",
    "        question: \"What’s your ideal vacation?\",\n",
    "        options: [\"Beach\", \"Mountains\", \"City\", \"Countryside\"],\n",
    "        answer: null\n",
    "    },\n",
    "    {\n",
    "        question: \"How do you prefer to communicate?\",\n",
    "        options: [\"In person\", \"Texting\", \"Phone calls\", \"Emails\"],\n",
    "        answer: null\n",
    "    },\n",
    "    {\n",
    "        question: \"What motivates you the most?\",\n",
    "        options: [\"Achievements\", \"Helping others\", \"Creativity\", \"Stability\"],\n",
    "        answer: null\n",
    "    },\n",
    "    {\n",
    "        question: \"How do you feel about change?\",\n",
    "        options: [\"Embrace it\", \"Resist it\", \"Adapt slowly\", \"Avoid it\"],\n",
    "        answer: null\n",
    "    },\n",
    "    {\n",
    "        question: \"How do you view challenges?\",\n",
    "        options: [\"Opportunities to grow\", \"Obstacles to overcome\", \"Stressful situations\", \"Fun adventures\"],\n",
    "        answer: null\n",
    "    }\n",
    "];\n",
    "\n",
    "// Function to conduct the quiz\n",
    "function conductQuiz() {\n",
    "    for (let i = 0; i < quizData.length; i++) {\n",
    "        let question = quizData[i].question;\n",
    "        let options = quizData[i].options;\n",
    "        let answer = prompt(`${question}\\n${options.map((option, index) => `${index + 1}. ${option}`).join('\\n')}\\n\\nEnter the number of your answer:`);\n",
    "\n",
    "        // Store the user's answer\n",
    "        if (answer >= 1 && answer <= options.length) {\n",
    "            quizData[i].answer = options[answer - 1];\n",
    "        } else {\n",
    "            alert(\"Invalid answer. Please try again.\");\n",
    "            i--; // Repeat the question\n",
    "        }\n",
    "    }\n",
    "\n",
    "    // Analyze results\n",
    "    analyzeResults();\n",
    "}\n",
    "\n",
    "// Function to analyze results and determine personality type\n",
    "function analyzeResults() {\n",
    "    let personalityType = { introvert: 0, extrovert: 0, thinker: 0, feeler: 0 };\n",
    "\n",
    "    quizData.forEach(q => {\n",
    "        switch (q.answer) {\n",
    "            case \"Reading\":\n",
    "            case \"Meditate\":\n",
    "            case \"Quiet and peaceful\":\n",
    "            case \"Classical\":\n",
    "            case \"Think it through\":\n",
    "            case \"Countryside\":\n",
    "                personalityType.introvert++;\n",
    "                break;\n",
    "            case \"Sports\":\n",
    "            case \"Exercise\":\n",
    "            case \"Busy and energetic\":\n",
    "            case \"Pop\":\n",
    "            case \"Ask others for input\":\n",
    "            case \"Beach\":\n",
    "                personalityType.extrovert++;\n",
    "                break;\n",
    "            case \"Creative and artistic\":\n",
    "            case \"Jazz\":\n",
    "            case \"Follow the rules\":\n",
    "            case \"Opportunities to grow\":\n",
    "                personalityType.thinker++;\n",
    "                break;\n",
    "            case \"Talk to friends\":\n",
    "            case \"Ignore it\":\n",
    "            case \"Structured and organized\":\n",
    "            case \"Stressful situations\":\n",
    "                personalityType.feeler++;\n",
    "                break;\n",
    "            default:\n",
    "                break;\n",
    "        }\n",
    "    });\n",
    "\n",
    "    // Determine the dominant personality type\n",
    "    let dominantType = Object.keys(personalityType).reduce((a, b) => personalityType[a] > personalityType[b] ? a : b);\n",
    "\n",
    "    // Output personality description based on dominant type\n",
    "    switch (dominantType) {\n",
    "        case \"introvert\":\n",
    "            alert(\"You are an Introvert! You enjoy solitary activities and prefer quiet environments. You value deep connections with a few people.\");\n",
    "            break;\n",
    "        case \"extrovert\":\n",
    "            alert(\"You are an Extrovert! You thrive in social settings and enjoy being active. You find energy in interactions with others.\");\n",
    "            break;\n",
    "        case \"thinker\":\n",
    "            alert(\"You are a Thinker! You are analytical and prefer to make decisions based on logic. You enjoy creative and artistic pursuits.\");\n",
    "            break;\n",
    "        case \"feeler\":\n",
    "            alert(\"You are a Feeler! You are empathetic and prioritize emotional connections. You care deeply about others' feelings.\");\n",
    "            break;\n",
    "        default:\n",
    "            alert(\"You have a unique personality that doesn't fit into one category!\");\n",
    "            break;\n",
    "    }\n",
    "}\n",
    "\n",
    "// Start the quiz\n",
    "conductQuiz();\n"
   ]
  },
  {
   "cell_type": "code",
   "execution_count": null,
   "metadata": {
    "vscode": {
     "languageId": "javascript"
    }
   },
   "outputs": [],
   "source": [
    "%% js\n",
    "// JS Extra Practice: Old enough to vote?\n",
    "function canVote(age) {\n",
    "    return age >= 18;\n",
    "}\n",
    "\n",
    "// Test the function\n",
    "console.log(canVote(20));  // true\n",
    "console.log(canVote(16));  // false\n"
   ]
  },
  {
   "cell_type": "code",
   "execution_count": null,
   "metadata": {
    "vscode": {
     "languageId": "javascript"
    }
   },
   "outputs": [],
   "source": [
    "%% js\n",
    "// JS Extra Practice: Uppercase?\n",
    "function isFirstCharUppercase(str) {\n",
    "    return str[0] === str[0].toUpperCase();\n",
    "}\n",
    "\n",
    "// Test the function\n",
    "console.log(isFirstCharUppercase(\"Hello\"));   // true\n",
    "console.log(isFirstCharUppercase(\"world\"));   // false\n"
   ]
  }
 ],
 "metadata": {
  "kernelspec": {
   "display_name": "venv",
   "language": "python",
   "name": "python3"
  },
  "language_info": {
   "codemirror_mode": {
    "name": "ipython",
    "version": 3
   },
   "file_extension": ".py",
   "mimetype": "text/x-python",
   "name": "python",
   "nbconvert_exporter": "python",
   "pygments_lexer": "ipython3",
   "version": "3.12.3"
  }
 },
 "nbformat": 4,
 "nbformat_minor": 2
}
