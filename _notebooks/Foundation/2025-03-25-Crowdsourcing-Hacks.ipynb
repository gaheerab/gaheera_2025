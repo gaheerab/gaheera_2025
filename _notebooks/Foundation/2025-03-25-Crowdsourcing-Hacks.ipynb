{
  "cells": [
    {
      "cell_type": "raw",
      "metadata": {
        "vscode": {
          "languageId": "raw"
        }
      },
      "source": [
        "---\n",
        "layout: post\n",
        "title: Gaheera Babbar Crowdsourcing\n",
        "description: Big Idea 5 Crowdsourcing HW Hacks\n",
        "categories: [Python]\n",
        "menu: nav/tools_setup.html\n",
        "toc: true\n",
        "comments: true\n",
        "---"
      ]
    },
    {
      "cell_type": "markdown",
      "metadata": {},
      "source": [
        "## Rating Mango Visual: 9/10 was cool but a little glitchy\n",
        "## MCQ Practice: C. Crowdsouring involves obtaining input from a large group.\n",
        "# Popcorn Hack 3:\n",
        "## Task: Crowdsourcing is found almost everywhere online. Find an example of crowdsourcing, and briefly explain how it uses crowdsourcing.\n",
        "### Reddit is a prime example of crowdsourcing, where users contribute to an online community-driven platform where people share information, vote on posts, and engage in discussions. Reddit relies entirely on users to create posts, ask questions, and share news, making it a crowdsourced hub of information. This ensures a broad range of opinoins and collective problem solving, but it involves the risk of misinformation being spread. \n",
        "\n"
      ]
    },
    {
      "cell_type": "markdown",
      "metadata": {},
      "source": []
    },
    {
      "cell_type": "markdown",
      "metadata": {},
      "source": [
        "# HW Playlist\n",
        "### Crowdsourcing could improve our playlist ensuring variety and engagement as each individual studnet brings its own personal artist, taste, and style. However, it can also harm our playlist by people submitting unserious music, not submitting at all, or not following the genre guidlines, which would disrupt the interactive intent of the playlist and upset classmates.\n",
        "\n",
        "## My two songs: \n",
        "### 1. Westside - Ariana Grande\n",
        "### 2. Everytime - Ariana Grande"
      ]
    }
  ],
  "metadata": {
    "colab": {
      "provenance": []
    },
    "kernelspec": {
      "display_name": "Python 3",
      "name": "python3"
    },
    "language_info": {
      "name": "python"
    }
  },
  "nbformat": 4,
  "nbformat_minor": 0
}
