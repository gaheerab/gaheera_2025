{
 "cells": [
  {
   "cell_type": "raw",
   "metadata": {
    "vscode": {
     "languageId": "raw"
    }
   },
   "source": [
    "---\n",
    "layout: post\n",
    "title: Gaheera Babbar P4 Popcorn Hacks 3.2\n",
    "description: 3.2 Lesson Popcorn and Homework Hacks\n",
    "categories: [Python]\n",
    "menu: nav/tools_setup.html\n",
    "toc: true\n",
    "comments: true\n",
    "---"
   ]
  },
  {
   "cell_type": "markdown",
   "metadata": {},
   "source": [
    "## Gaheera Babbar P4 Popcorn Hacks 3.1"
   ]
  },
  {
   "cell_type": "code",
   "execution_count": 1,
   "metadata": {},
   "outputs": [
    {
     "name": "stdout",
     "output_type": "stream",
     "text": [
      "Gaheera Rhea Hannah Rowan\n"
     ]
    }
   ],
   "source": [
    "# Python Popcorn Hack 1: Sets\n",
    "set_a = {1, 2, 3, 4, 5}\n",
    "\n",
    "### 1. Adding 6 to the Set\n",
    "\n",
    "set_a.add(6)\n",
    "print(set_a)  # Output: {1, 2, 3, 4, 5, 6}\n",
    "\n",
    "set_a.remove(2) #removing 2\n",
    "set_b = {7, 8, 9} #new set\n",
    "union_set = set_a.union(set_b)  #union of sets\n",
    "union_set.clear() #clears set\n",
    "\n",
    "# Print the set to confirm it's empty\n",
    "print(union_set)\n",
    "\n",
    "# Create a set with duplicates\n",
    "my_set = {1, 2, 2, 3, 3, 4}\n",
    "\n",
    "# Find the length of the set\n",
    "set_length = len(my_set)\n",
    "\n",
    "# Print the length of the set\n",
    "print(set_length)\n",
    "\n",
    "\n",
    "\n",
    "\n",
    "\n"
   ]
  },
  {
   "cell_type": "code",
   "execution_count": 18,
   "metadata": {},
   "outputs": [
    {
     "name": "stdout",
     "output_type": "stream",
     "text": [
      "Bananas are soft and sweet. They are great as a snack or in banana bread and smoothies. They are excellent sources of potassium.\n"
     ]
    }
   ],
   "source": [
    "# Python Popcorn Hack 2: Strings\n",
    "my_string = \"Learning Python is not Fun\"\n",
    "# Find the length of the string\n",
    "string_length = len(my_string)\n",
    "print(f\"Length of the string: {string_length}\")\n",
    "# Slice the string to extract \"Python\"\n",
    "python_word = my_string[9:15]\n",
    "print(f\"Extracted word: {python_word}\")\n",
    "# Convert the string to uppercase\n",
    "uppercase_string = my_string.upper()\n",
    "print(f\"Uppercase string: {uppercase_string}\")\n",
    "\n",
    "# Replace \"fun\" with \"good\"\n",
    "replaced_string = my_string.replace(\"fun\", \"good\")\n",
    "print(f\"Replaced string: {replaced_string}\")\n",
    "# Reverse the string using slicing\n",
    "reversed_string = my_string[::-1]\n",
    "print(f\"Reversed string: {reversed_string}\")\n"
   ]
  },
  {
   "cell_type": "code",
   "execution_count": null,
   "metadata": {},
   "outputs": [],
   "source": [
    "#Python Popcorn Hack 3: Lists\n",
    "# Step 1: Create a list of numbers\n",
    "my_list = [3, 5, 7, 9, 11]\n",
    "\n",
    "# Step 2: Access the third element\n",
    "third_element = my_list[2]\n",
    "print(f\"The third element is: {third_element}\")\n",
    "\n",
    "# Step 3: Modify the second element to 6\n",
    "my_list[1] = 6\n",
    "print(f\"List after modification: {my_list}\")\n",
    "\n",
    "# Step 4: Append 13 to the list\n",
    "my_list.append(13)\n",
    "print(f\"List after appending 13: {my_list}\")\n",
    "\n",
    "# Step 5: Remove the element 9\n",
    "my_list.remove(9)\n",
    "print(f\"List after removing 9: {my_list}\")\n",
    "\n",
    "# Bonus: Sort the list in descending order\n",
    "my_list.sort(reverse=True)\n",
    "print(f\"List sorted in descending order: {my_list}\")\n",
    "\n"
   ]
  },
  {
   "cell_type": "code",
   "execution_count": null,
   "metadata": {},
   "outputs": [],
   "source": [
    "#Python Popcorn Hack 4: Dictionaries\n",
    "# Step 1: Create the personal_info dictionary\n",
    "personal_info = {\n",
    "    \"name\": \"Gaheera Babbar\",\n",
    "    \"email\": \"gaheerababbar20@gmail.com\",\n",
    "    \"phone number\": \"8584425370\"\n",
    "}\n",
    "\n",
    "# Step 2: Print the entire dictionary\n",
    "print(\"Personal Information Dictionary:\", personal_info)\n",
    "\n",
    "# Step 3: Print the name from the dictionary\n",
    "print(\"My Name is:\", personal_info[\"name\"])\n",
    "\n",
    "# Step 4: Print the length of the dictionary\n",
    "print(\"The length of the dictionary is:\", len(personal_info))\n",
    "\n",
    "# Step 5: Print the type of the dictionary\n",
    "print(\"The type of the dictionary is:\", type(personal_info))\n",
    "\n",
    "# Bonus: Create another dictionary and print their different values\n",
    "friend_info = {\n",
    "    \"name\": \"Jane Smith\",\n",
    "    \"email\": \"janesmith@example.com\",\n",
    "    \"phone number\": \"987-654-3210\"\n",
    "}\n",
    "\n",
    "# Print values from both dictionaries\n",
    "print(\"\\nMy Information:\")\n",
    "print(\"Name:\", personal_info[\"name\"])\n",
    "print(\"Email:\", personal_info[\"email\"])\n",
    "print(\"Phone Number:\", personal_info[\"phone number\"])\n",
    "\n",
    "print(\"\\nFriend's Information:\")\n",
    "print(\"Name:\", friend_info[\"name\"])\n",
    "print(\"Email:\", friend_inf\n"
   ]
  },
  {
   "cell_type": "code",
   "execution_count": null,
   "metadata": {},
   "outputs": [],
   "source": [
    "#Python Homework Hack\n",
    "\n",
    "#Part 1: Personal Info\n",
    "personal_info = { \"full_name\": \"Bob Smith\", \"years\": 35, \"location\": \"New Jersey\", \"favorite_food\": \"Hot Dogs\" }\n",
    "print(personal_info)\n",
    "\n",
    "#Part 2: Activities\n",
    "activities = [\"Fishing\", \"Hiking\", \"Gaming\"]\n",
    "print(activities)\n",
    "\n",
    "#Part 3: Add activities to personal info\n",
    "personal_info[\"activities\"] = activities\n",
    "print(personal_info)\n",
    "\n",
    "#Part 4: Available Activity\n",
    "activity_available = True\n",
    "print(f\"Is Gaming available today? {activity_available}\")\n",
    "\n",
    "# Part 5: Calculate the total number of activities\n",
    "total_activities = len(activities)\n",
    "\n",
    "print(f\"I have {total_activities} activities.\")\n",
    "\n",
    "#Part 6: Favorite Activities\n",
    "favorite_activities = (\"Fishing\", \"Hiking\")\n",
    "print(favorite_activities)\n",
    "\n",
    "#Part 7: New Set of Skills\n",
    "\n",
    "skills = {\"Python\", \"Cooking\", \"Oragami\"}\n",
    "print(skills)\n",
    "\n",
    "# Part 8: Create a variable for a new skill, set to None\n",
    "new_skill = None\n",
    "print(new_skill)\n",
    "\n",
    "#Part 9: Total Cost\n",
    "total_cost = (len(activities) * 5) + (len(skills) * 10) \n",
    "print(f\"Total cost: ${total_cost}\")\n",
    "\n",
    "\n",
    "\n"
   ]
  },
  {
   "cell_type": "code",
   "execution_count": 5,
   "metadata": {
    "vscode": {
     "languageId": "javascript"
    }
   },
   "outputs": [
    {
     "data": {
      "application/javascript": "//Popcorn Hack 3: Define variables automatically using let and const, write console.log() statements and demonstrate knowledge of accessing the console correctly, and short function that correctly calls each variable and string them together to make a sentence.\n// Automatically define variables\nconst name = \"Gaheera\";            // Using const because the name will not change\nlet age = 17;                   // Using let since the age can change\nconst favoriteFruit = \"watermelon\";  // This will remain constant\nlet school = \"Del Norte High School\";            // School might change later\n\n// Demonstrate accessing variables via console.log()\nconsole.log(\"Name:\", name);\nconsole.log(\"Age:\", age);\nconsole.log(\"Favorite fruit:\", favoriteFruit);\nconsole.log(\"school:\", school);\n\n// Short function that combines variables into a sentence\nfunction createSentence() {\n    return `Hi, my name is ${name}. I am ${age} years old, and I love ${favoriteFruit}. I currently go to ${school}.`;\n}\n\n// Call the function and log the sentence to the console\nconsole.log(createSentence());\n// Changing values of the variables declared with 'let'\nage = 18;\n\n// Call the function again with updated values\nconsole.log(createSentence());\n",
      "text/plain": [
       "<IPython.core.display.Javascript object>"
      ]
     },
     "metadata": {},
     "output_type": "display_data"
    }
   ],
   "source": [
    "%%js\n",
    "//Javascript Popcorn Hack 1: Sets\n",
    "// Create Set1 with 3 numbers\n",
    "let Set1 = new Set([1, 2, 3]);\n",
    "\n",
    "// Create Set2 with 3 different numbers\n",
    "let Set2 = new Set([4, 5, 6]);\n",
    "\n",
    "// Log both sets\n",
    "console.log(\"Set1:\", Set1);\n",
    "console.log(\"Set2:\", Set2);\n",
    "\n",
    "// Add a number to Set1\n",
    "Set1.add(7);\n",
    "\n",
    "// Remove the first number (1) from Set1\n",
    "Set1.delete(1);\n",
    "\n",
    "// Log Set1 after modification\n",
    "console.log(\"Set1 after adding 7 and removing 1:\", Set1);\n",
    "\n",
    "// Get the union of Set1 and Set2\n",
    "let unionSet = new Set([...Set1, ...Set2]);\n",
    "\n",
    "// Log the union of Set1 and Set2\n",
    "console.log(\"Union of Set1 and Set2:\", unionSet);\n",
    "\n",
    "\n"
   ]
  },
  {
   "cell_type": "code",
   "execution_count": 4,
   "metadata": {
    "vscode": {
     "languageId": "javascript"
    }
   },
   "outputs": [
    {
     "data": {
      "application/javascript": "// Popcorn Hack 4: Create your own array using two or more diffrent data types we throughout the lesson!\n\nlet classmates = [\"rowan\", \"gaheera\", \"rhea\", \"hannah\"];//creates an array of strings (classmates) and logs it to the console\nconsole.log(\"Array: \", classmates);\nelement.append(\"Array: \" + classmates.join(\", \"));\n\nlet data = [\"integer\", \"string\", \"boolean\", \"float\"];\nconsole.log(\"Array: \", data);\nelement.append(\" Array: \" + data.join(\", \"));\n",
      "text/plain": [
       "<IPython.core.display.Javascript object>"
      ]
     },
     "metadata": {},
     "output_type": "display_data"
    }
   ],
   "source": [
    "%%js\n",
    "// Javascript Popcorn Hack 2: Dictionaries\n",
    "// Create the dictionary (object) called \"application\"\n",
    "let application = {\n",
    "    name: \"Bob Smith\",\n",
    "    age: 30,\n",
    "    experiences: [\"Software Engineer\", \"Project Manager\", \"Consultant\"],\n",
    "    money: 5000\n",
    "};\n",
    "\n",
    "// Log the entire dictionary to make sure it works\n",
    "console.log(\"Application:\", application);\n",
    "\n",
    "// Log only the dictionary's money\n",
    "console.log(\"Money:\", application.money);\n"
   ]
  },
  {
   "cell_type": "code",
   "execution_count": 8,
   "metadata": {
    "vscode": {
     "languageId": "javascript"
    }
   },
   "outputs": [
    {
     "data": {
      "application/javascript": "// Step 1: Define scores for a student\nlet score1 = 75;\nlet score2 = 90;\nlet score3 = 78;\nlet score4 = 82;\nlet score5 = 98;\n\n// Step 2: Calculate total score and average\nlet totalScore = score1 + score2 + score3 + score4 + score5;\nlet numberOfScores = 5;  // Number of subjects/scores\nlet averageGrade = totalScore / numberOfScores;\n\n// Step 3: Define student information\nconst studentName = \"Gaheera\";\nconst studentAge = 17;\n\n// Step 4: Create an array to store student info and average grade\nlet studentInfo = [studentName, studentAge, averageGrade];\n\n// Display student details in the document body\ndocument.body.innerHTML = `\n  <h3>Student Info</h3>\n  <p>Student Name: ${studentInfo[0]}</p>\n  <p>Student Age: ${studentInfo[1]}</p>\n  <p>Average Grade: ${studentInfo[2]}</p>\n`;\n",
      "text/plain": [
       "<IPython.core.display.Javascript object>"
      ]
     },
     "metadata": {},
     "output_type": "display_data"
    }
   ],
   "source": [
    "%%js \n",
    "// Javascript Homework Hack\n",
    "// Create an empty object to store the applicant's information\n",
    "let application = {};\n",
    "\n",
    "// Prompt the user for their name, age, and experiences\n",
    "application.name = prompt(\"What is your name?\");\n",
    "application.age = prompt(\"How old are you?\");\n",
    "application.experiences = prompt(\"What are your experiences? (Separate multiple experiences by commas)\").split(',');\n",
    "\n",
    "// Log the user's input (the entire application object)\n",
    "console.log(\"Applicant's Information:\", application);\n",
    "\n",
    "// Log each individual input\n",
    "console.log(\"Name:\", application.name);\n",
    "console.log(\"Age:\", application.age);\n",
    "console.log(\"Experiences:\", application.experiences);\n"
   ]
  }
 ],
 "metadata": {
  "kernelspec": {
   "display_name": "venv",
   "language": "python",
   "name": "python3"
  },
  "language_info": {
   "codemirror_mode": {
    "name": "ipython",
    "version": 3
   },
   "file_extension": ".py",
   "mimetype": "text/x-python",
   "name": "python",
   "nbconvert_exporter": "python",
   "pygments_lexer": "ipython3",
   "version": "3.12.3"
  }
 },
 "nbformat": 4,
 "nbformat_minor": 2
}
