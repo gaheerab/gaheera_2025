{
 "cells": [
  {
   "cell_type": "markdown",
   "metadata": {
    "vscode": {
     "languageId": "raw"
    }
   },
   "source": [
    "---\n",
    "layout: post\n",
    "title: Sprint 3 and MC Reflection\n",
    "description: Sprint 3 Contributions and College Board MC Reflection\n",
    "categories: [Python]\n",
    "menu: nav/tools_setup.html\n",
    "toc: true\n",
    "comments: true\n",
    "---"
   ]
  },
  {
   "cell_type": "markdown",
   "metadata": {},
   "source": [
    "## Sprint 3 Contributions\n",
    "- Overview: My group decided to make a site involving music artists and genres. Because our class's overarching theme was debates, we created a chatroom that allowed users to engage in friendly debates about their favorite artists, depending on their favorite genres.\n",
    "- Collaboration Evidence: Because it was my first time creating a backend program, I asked CSA friends to assist me through the proccess and learned about the Python flask framework with SQLlite. I also got to work with API structures for first time and learned how I needed to format requests. I saw how the API and the model interacted, seeing each posted comment appear in our backend. I also had the additional role of Scrummaster, ensuring our frontend was on track and integrated with backend. I managed my teams communication with other teams and led my team to find a site topic that fit with both our periods theme of voting and our own interests. We thought a chatroom in which people can debate their favorite music artists would foster engaging and friendly conversations that would challenge us as students while also being able to enjoy the proccess.\n",
    "- Program Function: Users can comment, like one anothers comments, and title their comments so that readers can understand their main argument without reading their whole post.\n",
    "- The feedback we reieved at N@TM was mainly positive. However, we were told that our like button did not function, which we worked toether to fix. We realized the issue was in the program to increase the like count on every click, which we adjusted to create a properly functioning button."
   ]
  },
  {
   "cell_type": "markdown",
   "metadata": {},
   "source": [
    "## 2018 MC Reflection\n",
    "- What I learned from this quiz: From this quiz, I learned new terms like citizens science and redundnat routing. I also learned how to analyze the output of a prgoram to determine what code should replace missing segments in the input code.\n",
    "- Questions I am weak on: \n",
    "    - I feel I was weakest on questions that require analyzing the efficiency of algorithms and the policies of computing, as well as internet procedures. This reflected my unfamiliarity with technical foundations. \n",
    "    - To improve, I plan to study the required protocol for using and creating programs, as well as what makes a program successful and unsuccessful. \n",
    "### Analytics\n",
    "- I got less than 100% on the following topics\n",
    "    - Binary Numbers\n",
    "    - Data Compression\n",
    "    - Extracting Information from Data\n",
    "    - Variables and Assignments\n",
    "    - Boolean Expressions\n",
    "    - Conditionals\n",
    "    - Developing Procedures\n",
    "    - The Internet\n",
    "    - Crowdsourcing\n",
    "### Corrections\n",
    "- 1: second temp\n",
    "- 19: An archive containing previous versions of the e-book\n",
    "- 24: Byte pair encoding is an example of a lossless transformation because an encoded string acn be restored to its original version\n",
    "- 25: Level_Up: No pair of characters appears in the string more than once\n",
    "- 26: The robot rotates right whever there is an open square to the right, then moves forward, then repeatedly rotates right and moves forward.\n",
    "- 28: 8, Using 8 bits will allow 256 characters\n",
    "- 29: true,false, false, false, AND will be false and OR gate will be false\n",
    "- 30: 5. Each call requires one hour\n",
    "- 37: Both code segments display the correct average, but code segment I reuires more arithmetic operations than code segment II.\n",
    "- 43: The algorithm runs in reasonable time\n",
    "- 44: 7+10 will result in an overflow error in an operationresults in a value greater than 15\n",
    "- 46: It is not possible to create an algorithm that will solve the poblem for all programs and inputs\n",
    "- 47: In public cryptography, a message is encrupted with a recipieint public key and decrypted with the recipient's private key\n",
    "- 58: The internet can provide crowdsourcing participants access to useful tools information, and professional knowledge, The speed and reach of the internet can lower geographic barriers, but cannot allow all computational prpblems to be solved in a reasonable time\n",
    "- 60: Programmers can use abstraction to manage the complexity of a prgoram by replacing each instance of repeated code with a call to a procedure, and replacing the string variables name1, name2, name3, and name4 with a list of strings called names\n",
    "\n",
    "\n",
    "\n"
   ]
  }
 ],
 "metadata": {
  "language_info": {
   "name": "python"
  }
 },
 "nbformat": 4,
 "nbformat_minor": 2
}
