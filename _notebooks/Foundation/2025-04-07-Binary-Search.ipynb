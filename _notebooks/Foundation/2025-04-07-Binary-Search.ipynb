{
  "cells": [
    {
      "cell_type": "raw",
      "metadata": {
        "vscode": {
          "languageId": "raw"
        }
      },
      "source": [
        "---\n",
        "layout: post\n",
        "title: Gaheera Babbar Binary Search Algorithms HW Hacks\n",
        "description: Big Idea Binary Search Algorithms HW Hacks\n",
        "categories: [Python]\n",
        "menu: nav/tools_setup.html\n",
        "toc: true\n",
        "comments: true\n",
        "---"
      ]
    },
    {
      "cell_type": "markdown",
      "metadata": {},
      "source": [
        "### Popcorn Hack 1: Which of the following conditions mut be met in order for the procedure to work as intended?\n",
        "C. The values in the numList must be in sorted order. This is so that the function is able to successfully identify and eliminate half of the lift in each step.\n",
        "\n",
        "### Popcorn Hack 2: Which of the following statements correctly describes a disadvantage of binary search compared to linear search? Explain why your answer is correct and why the others are wrong.\n",
        "Incorrect: A. Binary search takes more time on average than linear search. Because Binary Search eliminates half of the list in each step, it is more time efficient than Linear Search. While Binary search has a time complexity of O(log n), linear search has a time complexity of O(n).\n",
        "#### Correct: B. Binary search cannot be used on unsorted lists without modifications. The list must be sorted in order for Binary Search to successfully eliminate half of the list. \n",
        "Incorrect: C. Binary search always returns the first occurrence of the target. Standard binary search simply returns any one occurrence, not specifically the first. Unless it's explicitly modified, it may return the middle or some other occurrence.\n",
        "Incorrect: D. Binary search can only be used on lists with unique values. Binary search works on lists with duplicate values, but theysometimes must be modified if searching for the first or last occurrence of a value. It does not require all elements to be unique.\n",
        "\n",
        "### Popcorn Hack 3\n",
        "['a', 'b', 'c', 'd', 'e', 'f', 'g']\n",
        "Code a binary search algorithm in your notebook that returns the index when given an element of the array (eg. an input of 'c' should return 2).\n"
      ]
    },
    {
      "cell_type": "code",
      "execution_count": 1,
      "metadata": {},
      "outputs": [],
      "source": [
        "def binary_search(arr, target):\n",
        "    left = 0\n",
        "    right = len(arr) - 1\n",
        "    \n",
        "    while left <= right:\n",
        "        mid = (left + right) // 2\n",
        "        \n",
        "        if arr[mid] == target:\n",
        "            return mid\n",
        "        elif arr[mid] < target:\n",
        "            left = mid + 1\n",
        "        else:\n",
        "            right = mid - 1\n",
        "    \n",
        "    return -1  # Return -1 if target is not found"
      ]
    },
    {
      "cell_type": "code",
      "execution_count": 2,
      "metadata": {},
      "outputs": [
        {
          "name": "stdout",
          "output_type": "stream",
          "text": [
            "First few rows of sorted data:\n",
            "        Product  Price\n",
            "5        Eraser   0.50\n",
            "14  Paper Clips   0.89\n",
            "2        Pencil   0.99\n",
            "9    Glue Stick   1.25\n",
            "1           Pen   1.50\n",
            "Original row count: 15\n",
            "Cleaned row count: 15\n",
            "Price $1.25 was found at index 3 in the sorted list.\n",
            "Price $6.49 was found at index 12 in the sorted list.\n",
            "Price $10.00 was NOT found in the dataset.\n"
          ]
        }
      ],
      "source": [
        "import pandas as pd\n",
        "\n",
        "# Load the dataset\n",
        "data = pd.read_csv(\"school_supplies.csv\")\n",
        "\n",
        "# Drop rows with missing values\n",
        "data_cleaned = data.dropna()\n",
        "\n",
        "# Sort the data by 'Price'\n",
        "data_sorted = data_cleaned.sort_values(by=\"Price\")\n",
        "\n",
        "# Extract sorted prices as a list\n",
        "price_list = data_sorted[\"Price\"].tolist()\n",
        "\n",
        "# Preview the sorted data\n",
        "print(\"First few rows of sorted data:\")\n",
        "print(data_sorted.head())\n",
        "print(\"Original row count:\", len(data))\n",
        "print(\"Cleaned row count:\", len(data_cleaned))\n",
        "\n",
        "# Binary search function\n",
        "def binary_search(arr, target):\n",
        "    left = 0\n",
        "    right = len(arr) - 1\n",
        "    \n",
        "    while left <= right:\n",
        "        mid = (left + right) // 2\n",
        "        if arr[mid] == target:\n",
        "            return mid\n",
        "        elif arr[mid] < target:\n",
        "            left = mid + 1\n",
        "        else:\n",
        "            right = mid - 1\n",
        "    return -1 \n",
        "\n",
        "search_prices = [1.25, 6.49, 10.00]\n",
        "\n",
        "for price in search_prices:\n",
        "    result = binary_search(price_list, price)\n",
        "    if result != -1:\n",
        "        print(f\"Price ${price:.2f} was found at index {result} in the sorted list.\")\n",
        "    else:\n",
        "        print(f\"Price ${price:.2f} was NOT found in the dataset.\")"
      ]
    }
  ],
  "metadata": {
    "colab": {
      "provenance": []
    },
    "kernelspec": {
      "display_name": "venv",
      "language": "python",
      "name": "python3"
    },
    "language_info": {
      "codemirror_mode": {
        "name": "ipython",
        "version": 3
      },
      "file_extension": ".py",
      "mimetype": "text/x-python",
      "name": "python",
      "nbconvert_exporter": "python",
      "pygments_lexer": "ipython3",
      "version": "3.12.3"
    }
  },
  "nbformat": 4,
  "nbformat_minor": 0
}
