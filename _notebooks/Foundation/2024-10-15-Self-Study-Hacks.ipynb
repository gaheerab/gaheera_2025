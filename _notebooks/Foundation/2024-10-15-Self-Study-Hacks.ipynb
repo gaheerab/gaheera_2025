{
 "cells": [
  {
   "cell_type": "raw",
   "metadata": {
    "vscode": {
     "languageId": "raw"
    }
   },
   "source": [
    "---\n",
    "layout: post\n",
    "title: Gaheera Babbar Self Study Hacks\n",
    "description: Javascript for Loops and Sprites Self Study Hacks\n",
    "categories: [Python]\n",
    "menu: nav/tools_setup.html\n",
    "toc: true\n",
    "comments: true\n",
    "---"
   ]
  }
 ],
 "metadata": {
  "language_info": {
   "name": "python"
  }
 },
 "nbformat": 4,
 "nbformat_minor": 2
}
