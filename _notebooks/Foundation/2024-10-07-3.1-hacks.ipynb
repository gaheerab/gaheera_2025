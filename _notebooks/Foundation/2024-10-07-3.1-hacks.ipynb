{
 "cells": [
  {
   "cell_type": "raw",
   "metadata": {
    "vscode": {
     "languageId": "raw"
    }
   },
   "source": [
    "---\n",
    "layout: post\n",
    "title: Gaheera Babbar P4 Popcorn Hacks 3.1 Variables\n",
    "description: 3.1 Lesson Popcorn and Homework Hacks\n",
    "categories: [Python]\n",
    "menu: nav/tools_setup.html\n",
    "toc: true\n",
    "comments: true\n",
    "---"
   ]
  },
  {
   "cell_type": "markdown",
   "metadata": {},
   "source": [
    "## Gaheera Babbar P4 Popcorn Hacks 3.1"
   ]
  },
  {
   "cell_type": "code",
   "execution_count": 1,
   "metadata": {},
   "outputs": [
    {
     "name": "stdout",
     "output_type": "stream",
     "text": [
      "Gaheera Rhea Hannah Rowan\n"
     ]
    }
   ],
   "source": [
    "# Python Popcorn Hack 1: Team Variables\n",
    "seat_one = \"Gaheera\"\n",
    "seat_two = \"Rhea\"\n",
    "seat_three = \"Hannah\"\n",
    "seat_four = \"Rowan\"\n",
    "print(seat_one, seat_two, seat_three, seat_four)"
   ]
  },
  {
   "cell_type": "code",
   "execution_count": 18,
   "metadata": {},
   "outputs": [
    {
     "name": "stdout",
     "output_type": "stream",
     "text": [
      "Bananas are soft and sweet. They are great as a snack or in banana bread and smoothies. They are excellent sources of potassium.\n"
     ]
    }
   ],
   "source": [
    "# Python Popcorn Hack 2: Fruit Dictionary\n",
    "fruits = {\n",
    "    \"apple\": {\n",
    "        \"color\": \"red\",\n",
    "        \"taste\": \"sweet\",\n",
    "        \"season\": \"fall\",\n",
    "        \"description\": \"Apples are crunchy and sweet. They are often used in pies and desserts.\"\n",
    "    },\n",
    "    \"banana\": {\n",
    "        \"color\": \"yellow\",\n",
    "        \"taste\": \"sweet\",\n",
    "        \"season\": \"year-round\",\n",
    "        \"description\": \"Bananas are soft and sweet. They are great as a snack or in banana bread and smoothies. They are excellent sources of potassium.\"\n",
    "    },\n",
    "    \"orange\": {\n",
    "        \"color\": \"orange\",\n",
    "        \"taste\": \"citrus\",\n",
    "        \"season\": \"winter\",\n",
    "        \"description\": \"Oranges are juicy and tangy. They are full of vitamin C and perfect for juice.\"\n",
    "    }\n",
    "}\n",
    "print(fruits[\"banana\"][\"description\"])"
   ]
  },
  {
   "cell_type": "code",
   "execution_count": 5,
   "metadata": {
    "vscode": {
     "languageId": "javascript"
    }
   },
   "outputs": [
    {
     "data": {
      "application/javascript": "//Popcorn Hack 3: Define variables automatically using let and const, write console.log() statements and demonstrate knowledge of accessing the console correctly, and short function that correctly calls each variable and string them together to make a sentence.\n// Automatically define variables\nconst name = \"Gaheera\";            // Using const because the name will not change\nlet age = 17;                   // Using let since the age can change\nconst favoriteFruit = \"watermelon\";  // This will remain constant\nlet school = \"Del Norte High School\";            // School might change later\n\n// Demonstrate accessing variables via console.log()\nconsole.log(\"Name:\", name);\nconsole.log(\"Age:\", age);\nconsole.log(\"Favorite fruit:\", favoriteFruit);\nconsole.log(\"school:\", school);\n\n// Short function that combines variables into a sentence\nfunction createSentence() {\n    return `Hi, my name is ${name}. I am ${age} years old, and I love ${favoriteFruit}. I currently go to ${school}.`;\n}\n\n// Call the function and log the sentence to the console\nconsole.log(createSentence());\n// Changing values of the variables declared with 'let'\nage = 18;\n\n// Call the function again with updated values\nconsole.log(createSentence());\n",
      "text/plain": [
       "<IPython.core.display.Javascript object>"
      ]
     },
     "metadata": {},
     "output_type": "display_data"
    }
   ],
   "source": [
    "%%js\n",
    "//Popcorn Hack 3: Define variables automatically using let and const, write console.log() statements and demonstrate knowledge of accessing the console correctly, and short function that correctly calls each variable and string them together to make a sentence.\n",
    "// Automatically define variables\n",
    "const name = \"Gaheera\";            // Using const because the name will not change\n",
    "let age = 17;                   // Using let since the age can change\n",
    "const favoriteFruit = \"watermelon\";  // This will remain constant\n",
    "let school = \"Del Norte High School\";            // School might change later\n",
    "\n",
    "// Demonstrate accessing variables via console.log()\n",
    "console.log(\"Name:\", name);\n",
    "console.log(\"Age:\", age);\n",
    "console.log(\"Favorite fruit:\", favoriteFruit);\n",
    "console.log(\"school:\", school);\n",
    "\n",
    "// Short function that combines variables into a sentence\n",
    "function createSentence() {\n",
    "    return `Hi, my name is ${name}. I am ${age} years old, and I love ${favoriteFruit}. I currently go to ${school}.`;\n",
    "}\n",
    "\n",
    "// Call the function and log the sentence to the console\n",
    "console.log(createSentence());\n",
    "// Changing values of the variables declared with 'let'\n",
    "age = 18;\n",
    "\n",
    "// Call the function again with updated values\n",
    "console.log(createSentence());\n"
   ]
  },
  {
   "cell_type": "code",
   "execution_count": 4,
   "metadata": {
    "vscode": {
     "languageId": "javascript"
    }
   },
   "outputs": [
    {
     "data": {
      "application/javascript": "// Popcorn Hack 4: Create your own array using two or more diffrent data types we throughout the lesson!\n\nlet classmates = [\"rowan\", \"gaheera\", \"rhea\", \"hannah\"];//creates an array of strings (classmates) and logs it to the console\nconsole.log(\"Array: \", classmates);\nelement.append(\"Array: \" + classmates.join(\", \"));\n\nlet data = [\"integer\", \"string\", \"boolean\", \"float\"];\nconsole.log(\"Array: \", data);\nelement.append(\" Array: \" + data.join(\", \"));\n",
      "text/plain": [
       "<IPython.core.display.Javascript object>"
      ]
     },
     "metadata": {},
     "output_type": "display_data"
    }
   ],
   "source": [
    "%%js\n",
    "// Popcorn Hack 4: Create your own array using two or more diffrent data types we throughout the lesson!\n",
    "\n",
    "let classmates = [\"rowan\", \"gaheera\", \"rhea\", \"hannah\"];//creates an array of strings (classmates) and logs it to the console\n",
    "console.log(\"Array: \", classmates);\n",
    "element.append(\"Array: \" + classmates.join(\", \"));\n",
    "\n",
    "let data = [\"integer\", \"string\", \"boolean\", \"float\"];\n",
    "console.log(\"Array: \", data);\n",
    "element.append(\" Array: \" + data.join(\", \"));"
   ]
  },
  {
   "cell_type": "code",
   "execution_count": 8,
   "metadata": {
    "vscode": {
     "languageId": "javascript"
    }
   },
   "outputs": [
    {
     "data": {
      "application/javascript": "// Step 1: Define scores for a student\nlet score1 = 75;\nlet score2 = 90;\nlet score3 = 78;\nlet score4 = 82;\nlet score5 = 98;\n\n// Step 2: Calculate total score and average\nlet totalScore = score1 + score2 + score3 + score4 + score5;\nlet numberOfScores = 5;  // Number of subjects/scores\nlet averageGrade = totalScore / numberOfScores;\n\n// Step 3: Define student information\nconst studentName = \"Gaheera\";\nconst studentAge = 17;\n\n// Step 4: Create an array to store student info and average grade\nlet studentInfo = [studentName, studentAge, averageGrade];\n\n// Display student details in the document body\ndocument.body.innerHTML = `\n  <h3>Student Info</h3>\n  <p>Student Name: ${studentInfo[0]}</p>\n  <p>Student Age: ${studentInfo[1]}</p>\n  <p>Average Grade: ${studentInfo[2]}</p>\n`;\n",
      "text/plain": [
       "<IPython.core.display.Javascript object>"
      ]
     },
     "metadata": {},
     "output_type": "display_data"
    }
   ],
   "source": [
    "%%js \n",
    "// Step 1: Define scores for a student\n",
    "let score1 = 75;\n",
    "let score2 = 90;\n",
    "let score3 = 78;\n",
    "let score4 = 82;\n",
    "let score5 = 98;\n",
    "\n",
    "// Step 2: Calculate total score and average\n",
    "let totalScore = score1 + score2 + score3 + score4 + score5;\n",
    "let numberOfScores = 5;  // Number of subjects/scores\n",
    "let averageGrade = totalScore / numberOfScores;\n",
    "\n",
    "// Step 3: Define student information\n",
    "const studentName = \"Gaheera\";\n",
    "const studentAge = 17;\n",
    "\n",
    "// Step 4: Create an array to store student info and average grade\n",
    "let studentInfo = [studentName, studentAge, averageGrade];\n",
    "\n",
    "// Display student details in the document body\n",
    "document.body.innerHTML = `\n",
    "  <h3>Student Info</h3>\n",
    "  <p>Student Name: ${studentInfo[0]}</p>\n",
    "  <p>Student Age: ${studentInfo[1]}</p>\n",
    "  <p>Average Grade: ${studentInfo[2]}</p>\n",
    "`;"
   ]
  }
 ],
 "metadata": {
  "kernelspec": {
   "display_name": "venv",
   "language": "python",
   "name": "python3"
  },
  "language_info": {
   "codemirror_mode": {
    "name": "ipython",
    "version": 3
   },
   "file_extension": ".py",
   "mimetype": "text/x-python",
   "name": "python",
   "nbconvert_exporter": "python",
   "pygments_lexer": "ipython3",
   "version": "3.12.3"
  }
 },
 "nbformat": 4,
 "nbformat_minor": 2
}
