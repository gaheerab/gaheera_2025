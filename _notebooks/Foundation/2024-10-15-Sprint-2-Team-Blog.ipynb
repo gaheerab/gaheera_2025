{
 "cells": [
  {
   "cell_type": "raw",
   "metadata": {
    "vscode": {
     "languageId": "raw"
    }
   },
   "source": [
    "---\n",
    "layout: post\n",
    "title: Sprint 2 3.10A Team Blog\n",
    "description: Sprint 2 Team 3.10A Team Blog- Gaheera, Hannah, Rowan, Rhea\n",
    "categories: [Python]\n",
    "menu: nav/tools_setup.html\n",
    "toc: true\n",
    "comments: true\n",
    "---"
   ]
  },
  {
   "cell_type": "markdown",
   "metadata": {},
   "source": [
    "## Link to Personal Blogs\n",
    "- [Gaheera](https://gaheerab.github.io/gaheera_2025/python/2024/10/15/Sprint-2-Personal-Blog_IPYNB_2_.html)\n",
    "- [Hannah](https://hannahli11.github.io/hannahli2025/sprint2/)\n",
    "- [Rowan]()\n",
    "- [Rhea](https://rhear02.github.io/rheaStudent/2024/10/15/teamteachblog.html)"
   ]
  },
  {
   "cell_type": "markdown",
   "metadata": {},
   "source": [
    "## Link to Team Issue\n",
    "- [Team Issue](https://github.com/nighthawkcoders/portfolio_2025/issues/519)"
   ]
  }
 ],
 "metadata": {
  "language_info": {
   "name": "python"
  }
 },
 "nbformat": 4,
 "nbformat_minor": 2
}
